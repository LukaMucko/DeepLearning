{
 "cells": [
  {
   "cell_type": "code",
   "execution_count": 5,
   "metadata": {},
   "outputs": [
    {
     "name": "stdout",
     "output_type": "stream",
     "text": [
      "The autoreload extension is already loaded. To reload it, use:\n",
      "  %reload_ext autoreload\n"
     ]
    }
   ],
   "source": [
    "%load_ext autoreload\n",
    "%autoreload 2\n",
    "import matplotlib.pyplot as plt\n",
    "import pandas as pd\n",
    "import numpy as np\n",
    "import copy\n",
    "import os\n",
    "import torch\n",
    "import torch.nn\n",
    "import torchvision\n",
    "import torchvision.transforms as transforms\n",
    "import torch.nn.utils.prune as prune\n",
    "from d2l import torch as d2l\n",
    "from dl_assignment_7_common import *\n",
    "\n",
    "net = create_lenet()\n",
    "train_data, valid_data, test_data = get_dataloaders(\n",
    "    \"MNIST\", model_name=\"lenet\", batch_size=60)\n",
    "datasets = {\"valid\": valid_data, \"test\": test_data, \"train\": train_data}\n",
    "lr, optimizer, momentum = get_lr_optimizer(\"lenet\")\n",
    "epochs = get_num_epochs(\"lenet\")\n",
    "early_stop_metric = \"valid_loss\"\n",
    "save_patience = 1"
   ]
  },
  {
   "cell_type": "code",
   "execution_count": null,
   "metadata": {},
   "outputs": [
    {
     "name": "stdout",
     "output_type": "stream",
     "text": [
      "train loss 0.140, train acc 0.959, valid loss 0.161, valid acc 0.952, test loss 0.152, test acc 0.956\n",
      "{'train_loss': [0.22318341578814116, 0.14033291357349265], 'valid_loss': [0.23684298992156982, 0.16133062541484833], 'test_loss': [0.22690549492835999, 0.1521047204732895], 'train_acc': [0.9358181818181818, 0.9592181818181819], 'valid_acc': [0.9332, 0.952], 'test_acc': [0.9345, 0.9555], 'early_stop_epoch': [2, 2]}\n",
      "1\n"
     ]
    }
   ],
   "source": [
    "results_model, results_stat = iterative_pruning_training(net, \"lenet\",\n",
    "                                                         datasets, \"iterative_reinit\", \"iterative\", \n",
    "                                                         reinit=True, reset=True, pruning_target=0.04,\n",
    "                                                         lr=lr, optimizer=optimizer, momentum=momentum,\n",
    "                                                         epochs=2, early_stop_metric=early_stop_metric,\n",
    "                                                         save_patience=save_patience, plot=True)"
   ]
  }
 ],
 "metadata": {
  "kernelspec": {
   "display_name": "Python 3 (ipykernel)",
   "language": "python",
   "name": "python3"
  },
  "language_info": {
   "codemirror_mode": {
    "name": "ipython",
    "version": 3
   },
   "file_extension": ".py",
   "mimetype": "text/x-python",
   "name": "python",
   "nbconvert_exporter": "python",
   "pygments_lexer": "ipython3",
   "version": "3.10.10"
  }
 },
 "nbformat": 4,
 "nbformat_minor": 4
}
