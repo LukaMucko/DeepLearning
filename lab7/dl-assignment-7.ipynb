{
 "cells": [
  {
   "cell_type": "markdown",
   "metadata": {},
   "source": [
    "# Deep Learning &mdash; Assignment 7"
   ]
  },
  {
   "cell_type": "markdown",
   "metadata": {},
   "source": [
    "Seventh assignment for the 2023 Deep Learning course (NWI-IMC070) of the Radboud University."
   ]
  },
  {
   "cell_type": "markdown",
   "metadata": {
    "collapsed": false,
    "jupyter": {
     "outputs_hidden": false
    }
   },
   "source": [
    "-----\n",
    "\n",
    "**Names: Luka Mucko, Luca Poli**\n",
    "\n",
    "**Group: 46**\n",
    "\n",
    "-----"
   ]
  },
  {
   "cell_type": "markdown",
   "metadata": {
    "collapsed": false,
    "jupyter": {
     "outputs_hidden": false
    }
   },
   "source": [
    "## Introduction\n",
    "\n",
    "For this assignment we are doing things a bit different.\n",
    "* Your task is to reproduce the paper [The Lottery Ticket Hypothesis: Finding Sparse, Trainable Neural Networks;      Jonathan Frankle, Michael Carbin](https://arxiv.org/pdf/1803.03635.pdf).\n",
    "* Try to follow the experimental settings in that paper, unless there is a reason to deviate.\n",
    "* If the paper is not clear on some details, make a reasonable choice yourself, and motivate that choice.\n",
    "* You will have 3 weeks to work on this assignment.\n",
    "* Be aware that this assignment will take more time than previous ones. It is ok if you do not completely finish it.\n",
    "* We will *not* be providing you with much code. You will have to implement many things yourself.\n",
    "* You may freely use code from earlier weeks, and from the d2l books. Please add a comment to reference the original source.\n",
    "* You may *not* use implementations of the paper you find online.\n",
    "\n",
    "**Tips and hints**\n",
    "* It is allowed and recommended to use more than just this notebook. Make separate python files for a library of functions, and for training and analyses.\n",
    "* If you like working with jupyter notebooks: make a separate notebook for trying things out, and keep this one clean.\n",
    "* Use checkpoint files before and during training.\n",
    "* In the notebook only display and discuss these results.\n",
    "* You may add new cells to this notebook as needed.\n",
    "* While the task is to reproduce parts of a paper, the big picture is more important than the exact details.\n",
    "* It is allowed to discuss the assignment with other groups, but try not to spoil too much.\n",
    "* If you get stuck, contact the teachers via discord."
   ]
  },
  {
   "cell_type": "markdown",
   "metadata": {
    "collapsed": false,
    "jupyter": {
     "outputs_hidden": false
    }
   },
   "source": [
    "## Required software\n",
    "\n",
    "If you need to import any additional libraries, add them below."
   ]
  },
  {
   "cell_type": "code",
   "execution_count": 22,
   "metadata": {
    "collapsed": false,
    "jupyter": {
     "outputs_hidden": false
    },
    "ExecuteTime": {
     "start_time": "2023-10-26T14:20:12.505657Z",
     "end_time": "2023-10-26T14:20:12.814471Z"
    }
   },
   "outputs": [
    {
     "name": "stdout",
     "output_type": "stream",
     "text": [
      "The autoreload extension is already loaded. To reload it, use:\n",
      "  %reload_ext autoreload\n"
     ]
    }
   ],
   "source": [
    "%config InlineBackend.figure_formats = ['png']\n",
    "%matplotlib inline\n",
    "%load_ext autoreload\n",
    "%autoreload 2\n",
    "import os\n",
    "import torch\n",
    "import torch.nn\n",
    "import torch.nn.utils.prune as prune\n",
    "import torchvision\n",
    "import matplotlib.pyplot as plt\n",
    "import torchvision.transforms as transforms\n",
    "from d2l import torch as d2l\n",
    "from dl_assignment_7_common import *  # Your functions should go here if you want to use them from scripts\n",
    "\n",
    "device = d2l.try_gpu()"
   ]
  },
  {
   "cell_type": "markdown",
   "metadata": {
    "collapsed": false,
    "jupyter": {
     "outputs_hidden": false
    }
   },
   "source": [
    "## 7.1 The paper (2 points)"
   ]
  },
  {
   "cell_type": "markdown",
   "metadata": {
    "collapsed": false,
    "jupyter": {
     "outputs_hidden": false
    }
   },
   "source": [
    "**(a) Read sections 1, 2, and 5 of the paper [The Lottery Ticket Hypothesis: Finding Sparse, Trainable Neural Networks; by Jonathan Frankle, Michael Carbin](https://arxiv.org/pdf/1803.03635.pdf)**\n",
    "\n",
    "We will refer to this as the \"LTH paper\" from now on, or just \"the paper\".\n",
    "To answer some later questions you will also need to look at other sections, and search through the appendices."
   ]
  },
  {
   "cell_type": "markdown",
   "metadata": {
    "collapsed": false,
    "jupyter": {
     "outputs_hidden": false
    }
   },
   "source": [
    "**(b) In your own words, briefly explain the key message of the paper.<span style=\"float:right\"> (2 points)</span>**\n",
    "\n",
    "Note: \"briefly\" means: a few sentences at most."
   ]
  },
  {
   "cell_type": "markdown",
   "metadata": {
    "collapsed": false,
    "jupyter": {
     "outputs_hidden": false
    }
   },
   "source": [
    "The key message of the paper, is that in large neural network there exist smaller subnetwork (called winning tickets) that can be trained in isolation to achieve comparable performance to the original network (or even better) in less epochs. The winning tickets are found with an iterative process of pruning and retraining."
   ]
  },
  {
   "cell_type": "markdown",
   "metadata": {
    "collapsed": false,
    "jupyter": {
     "outputs_hidden": false
    }
   },
   "source": [
    "## 7.2 Models and datasets (9 points)"
   ]
  },
  {
   "cell_type": "markdown",
   "metadata": {
    "collapsed": false,
    "jupyter": {
     "outputs_hidden": false
    }
   },
   "source": [
    "**(a) What neural network architectures are used in the paper?<span style=\"float:right\"> (1 point)</span>**"
   ]
  },
  {
   "cell_type": "markdown",
   "metadata": {
    "collapsed": false,
    "jupyter": {
     "outputs_hidden": false
    }
   },
   "source": [
    "In the paper the network architectures used are: Lenet, Conv-2, Conv-4, Conv-6, Resnet-18 and VGG-19."
   ]
  },
  {
   "cell_type": "markdown",
   "metadata": {
    "collapsed": false,
    "jupyter": {
     "outputs_hidden": false
    }
   },
   "source": [
    "To keep things simple, we will start with a simple architecture, corresponding to what the paper calls `Lenet`."
   ]
  },
  {
   "cell_type": "markdown",
   "metadata": {
    "collapsed": false,
    "jupyter": {
     "outputs_hidden": false
    }
   },
   "source": [
    "**(b) Define a function that constructs a `Lenet` network using PyTorch.<span style=\"float:right\"> (2 points)</span>**\n",
    "\n",
    "Copy these definitions to `dl_assignment_7_common.py`.\n",
    "\n",
    "Hint: see Figure 2.\n",
    "\n",
    "Note: the LTH paper is not entirely clear about this, but the convolution layers use `padding='same'`."
   ]
  },
  {
   "cell_type": "code",
   "execution_count": 2,
   "metadata": {
    "collapsed": false,
    "jupyter": {
     "outputs_hidden": false
    },
    "ExecuteTime": {
     "start_time": "2023-10-26T14:06:45.904299Z",
     "end_time": "2023-10-26T14:06:46.274405Z"
    }
   },
   "outputs": [
    {
     "name": "stdout",
     "output_type": "stream",
     "text": [
      "lenet: 266610 parameters\n",
      "conv2: 4300490 parameters\n",
      "conv4: 2424778 parameters\n",
      "resnet18: 278634 parameters\n",
      "vgg19: 20025034 parameters\n"
     ]
    }
   ],
   "source": [
    "for net_type in [\"lenet\", \"conv2\", \"conv4\", \"resnet18\", \"vgg19\"]:\n",
    "    print(f\"{net_type}: {sum(p.numel() for p in create_network(net_type).parameters())} parameters\")"
   ]
  },
  {
   "cell_type": "markdown",
   "metadata": {
    "collapsed": false,
    "jupyter": {
     "outputs_hidden": false
    }
   },
   "source": [
    "**(c) Define a function that can construct a network given the architecture name.**\n",
    "\n",
    "To keep the code as generic as possible, we can make function\n",
    "\n",
    "Move the function below to `dl_assignment_7_common.py`, and don't forget to remove it here."
   ]
  },
  {
   "cell_type": "markdown",
   "source": [
    "We will do all our experiments with two datasets: MNIST and FashionMNIST\n",
    "\n",
    "**(d) Are these datasets also used in the papers?<span style=\"float:right\"> (1 point)</span>**"
   ],
   "metadata": {
    "collapsed": false
   }
  },
  {
   "cell_type": "markdown",
   "source": [
    "In the paper they use MNIST and CIFAR10, so the dataset FashionMNIST is not used the paper."
   ],
   "metadata": {
    "collapsed": false
   }
  },
  {
   "cell_type": "markdown",
   "source": [
    "**(e) Define a function that loads a dataset given the dataset name.<span style=\"float:right\"> (3 points)</span>**\n",
    "\n",
    "Hint: Standard datasets such as MNIST and CIFAR10 are available in the [torchvision](https://pytorch.org/vision/stable/datasets.html#image-classification) library."
   ],
   "metadata": {
    "collapsed": false
   }
  },
  {
   "cell_type": "markdown",
   "source": [
    "TODO: Function implemented as: `TODO` in `dl_assignment_7_common.py`"
   ],
   "metadata": {
    "collapsed": false
   }
  },
  {
   "cell_type": "markdown",
   "source": [
    "**(f) Most of these datasets come with a predefined train/test split. Is this used in the LTH paper? If so, update the dataset loader to return a pair `(trainset, testset)`.<span style=\"float:right\"> (1 point)</span>**"
   ],
   "metadata": {
    "collapsed": false
   }
  },
  {
   "cell_type": "markdown",
   "source": [
    "In the paper they use the predefined train/test split, which is 60000 training images and 10000 test images for MNIST and 50000 training images and 10000 test images for CIFAR10."
   ],
   "metadata": {
    "collapsed": false
   }
  },
  {
   "cell_type": "markdown",
   "source": [
    "**(g) Does the LTH paper use a validation set? If so, update the dataset loader to return `(train_dataset, validation_dataset, test_dataset)`.<span style=\"float:right\"> (1 point)</span>**\n",
    "\n",
    "Hint: [`random_split`](https://pytorch.org/docs/stable/data.html#torch.utils.data.random_split), and/or see assignment 2."
   ],
   "metadata": {
    "collapsed": false
   }
  },
  {
   "cell_type": "markdown",
   "source": [
    "In the paper they have sampled a validation set of 5000 images from the training set."
   ],
   "metadata": {
    "collapsed": false
   }
  },
  {
   "cell_type": "code",
   "execution_count": 3,
   "outputs": [
    {
     "name": "stdout",
     "output_type": "stream",
     "text": [
      "MNIST: 55000 training images, 5000 validation images, 10000 test images\n",
      "Files already downloaded and verified\n",
      "Files already downloaded and verified\n",
      "CIFAR10: 45000 training images, 5000 validation images, 10000 test images\n",
      "FashionMNIST: 55000 training images, 5000 validation images, 10000 test images\n"
     ]
    }
   ],
   "source": [
    "for dataset in [\"MNIST\", \"CIFAR10\" ,\"FashionMNIST\"]:\n",
    "    train_data, validation_data, test_data = get_dataloaders(dataset)\n",
    "    print(f\"{dataset}: {len(train_data.dataset)} training images, {len(validation_data.dataset)} validation images, {len(test_data.dataset)} test images\")"
   ],
   "metadata": {
    "collapsed": false,
    "ExecuteTime": {
     "start_time": "2023-10-26T14:06:46.274405Z",
     "end_time": "2023-10-26T14:06:51.935811Z"
    }
   }
  },
  {
   "cell_type": "markdown",
   "source": [
    "## 7.3 Training (12 points)"
   ],
   "metadata": {
    "collapsed": false
   }
  },
  {
   "cell_type": "markdown",
   "source": [
    "**(a) What optimization algorithm is used in the paper? What values are used for the hyperparameters?<span style=\"float:right\"> (1.5 points)</span>**\n",
    "\n",
    "If you are unable to find the values used for some of the hyperparameters, use reasonable default values."
   ],
   "metadata": {
    "collapsed": false
   }
  },
  {
   "cell_type": "markdown",
   "source": [
    "ADAM was used as the optimizer for Lenet and Conv networks, for resnet and VGG SGD with momentum was used. <br/>\n",
    "They use learning rates $3\\cdot 10^{-4}$, $1.2\\cdot 10^{-3}$, $2\\cdot 10^{-4}$ for Lenet and Conv networks. <br/>\n",
    "For sgd with momentum they used learning rates 0.1-0.01-0.001 and momentum 0.9\n"
   ],
   "metadata": {
    "collapsed": false
   }
  },
  {
   "cell_type": "markdown",
   "source": [
    "**(b) Implement an evaluation function, that evaluates a model on a validation or test set (passed as an argument).<span style=\"float:right\"> (2 points)</span>**\n",
    "\n",
    "The function should return loss and accuracy.\n",
    "\n",
    "Hints: the book defines a function for this that you may use (see assignment 3)."
   ],
   "metadata": {
    "collapsed": false
   }
  },
  {
   "cell_type": "markdown",
   "source": [
    "**(c) Implement a training loop.<span style=\"float:right\"> (4 points)</span>**\n",
    "\n",
    "Make sure that the network parameters are saved to a file before and during training."
   ],
   "metadata": {
    "collapsed": false
   }
  },
  {
   "cell_type": "markdown",
   "source": [
    "Because you will be doing many experiments, it would be a shame to have to re-run them when you reload the notebook. A better solution is to save model checkpoints.\n",
    "See [the tutorial on saving and loading model parameters](https://pytorch.org/tutorials/beginner/basics/saveloadrun_tutorial.html) for how to implement this in PyTorch.\n",
    "\n",
    "**(d) Change the training function so that it saves the model at the start and at the end of training.<span style=\"float:right\"> (1 point)</span>**\n",
    "\n",
    "Hint: Saving a model requires a filename. Because you will be running many experiments, come up with a descriptive naming convention and/or directory structure. Example: `path = f\"checkpoints/model-{arch}-{dataset}-{run}-{phase_of_the_moon}-{iteration}.pth\"`.\n",
    "\n",
    "Hint 2: it is easier to save the whole model, see the bottom of the tutorial."
   ],
   "metadata": {
    "collapsed": false
   }
  },
  {
   "cell_type": "markdown",
   "source": [
    "**(e) Train a simple network on a simple dataset.<span style=\"float:right\"> (1 point)</span>**\n",
    "\n",
    "You may want to create a new python script (`simple_training.py`), and just load the trained network here instead."
   ],
   "metadata": {
    "collapsed": false
   }
  },
  {
   "cell_type": "code",
   "execution_count": 4,
   "outputs": [
    {
     "name": "stdout",
     "output_type": "stream",
     "text": [
      "simple_training_1 : train loss 0.043, train acc 0.988, valid loss 0.170, valid acc 0.969, test loss 0.158, test acc 0.973\n"
     ]
    },
    {
     "data": {
      "text/plain": "<Figure size 640x480 with 1 Axes>",
      "image/png": "[encoded data removed]"
     },
     "metadata": {},
     "output_type": "display_data"
    }
   ],
   "source": [
    "simple_training_net1, stats1 = load_network(\"simple_training_1\", 0.01, \"adam\")\n",
    "print_plot_results(stats1, \"simple_training_1\")"
   ],
   "metadata": {
    "collapsed": false,
    "ExecuteTime": {
     "start_time": "2023-10-26T14:06:51.935811Z",
     "end_time": "2023-10-26T14:06:52.551829Z"
    }
   }
  },
  {
   "cell_type": "markdown",
   "metadata": {},
   "source": [
    "**(f) Does the training converge? How well does your network perform?<span style=\"float:right\"> (1 point)</span>**"
   ]
  },
  {
   "cell_type": "markdown",
   "metadata": {},
   "source": [
    "TODO: your answer here."
   ]
  },
  {
   "cell_type": "markdown",
   "metadata": {},
   "source": [
    "**(g) Re-train the same network, with the *same* initial weights. Are the results *exactly* the same?<span style=\"float:right\"> (2 points)</span>**"
   ]
  },
  {
   "cell_type": "code",
   "execution_count": 25,
   "outputs": [
    {
     "name": "stdout",
     "output_type": "stream",
     "text": [
      "simple_training_2 : train loss 0.064, train acc 0.982, valid loss 0.196, valid acc 0.964, test loss 0.158, test acc 0.970\n"
     ]
    },
    {
     "data": {
      "text/plain": "<Figure size 640x480 with 1 Axes>",
      "image/png": "[encoded data removed]"
     },
     "metadata": {},
     "output_type": "display_data"
    }
   ],
   "source": [
    "simple_training_net2, stats2 = load_network(\"simple_training_2\", 0.01, \"adam\")\n",
    "print_plot_results(stats2, \"simple_training_2\")"
   ],
   "metadata": {
    "collapsed": false,
    "ExecuteTime": {
     "start_time": "2023-10-26T14:20:59.947008Z",
     "end_time": "2023-10-26T14:21:00.529649Z"
    }
   }
  },
  {
   "cell_type": "markdown",
   "metadata": {},
   "source": [
    "TODO: your answer here."
   ]
  },
  {
   "cell_type": "markdown",
   "metadata": {},
   "source": [
    "**(h) The LTH paper uses a variant of 'early-stopping'. How is this done? Implement it in your training loop.<span style=\"float:right\"> (1 point)</span>**\n",
    "\n",
    "Hint: A simple way to keep track of the best model is to create a model checkpoint in a file `\"checkpoints/model-...-best.pth\"`.\n",
    "\n",
    "Hint 2: It is okay to compute the validation scores less often, this can speed up training."
   ]
  },
  {
   "cell_type": "markdown",
   "metadata": {},
   "source": [
    "TODO: your answer here."
   ]
  },
  {
   "cell_type": "markdown",
   "metadata": {},
   "source": [
    "## 7.4 Pruning (13 points)\n",
    "\n",
    "Next up, you should implement pruning. Starting with the one-shot pruning method.\n",
    "\n",
    "Hint: \n",
    "Pruning is implemented already in PyTorch, in the module [torch.utils.prune](https://pytorch.org/docs/stable/nn.html#module-torch.nn.utils).\n",
    "The pruning method used in the LTH paper corresponds is called [l1_unstructured](https://pytorch.org/docs/stable/generated/torch.nn.utils.prune.l1_unstructured.html) in PyTorch."
   ]
  },
  {
   "cell_type": "markdown",
   "metadata": {},
   "source": [
    "**(a) The PyTorch pruning function accepts an amount to prune. Is that the amount of weights to set to 0 or the amount to keep nonzero? Is the paper using the same?<span style=\"float:right\"> (1 point)</span>**"
   ]
  },
  {
   "cell_type": "markdown",
   "metadata": {},
   "source": [
    "The amount in the pytorch pruning function is the amount to set to 0. In the paper they indicate whit p% the amount to prune (like in pytorch) but the result are expressed with Pm which is the percentage of weights remaining."
   ]
  },
  {
   "cell_type": "markdown",
   "metadata": {},
   "source": [
    "**(b) Should all parameters be pruned or only weights? Is the pruning rate the same for all types of layers?<span style=\"float:right\"> (1 point)</span>**"
   ]
  },
  {
   "cell_type": "markdown",
   "metadata": {},
   "source": [
    "Pruning biases can lead to difficulties in training the network effectively, so we should only prune weights (like in the paper). The pruning rate change for different types of layers (for fully connected and convolutional layers), but it does not depend on the layer position (except for the connections to the last layer)."
   ]
  },
  {
   "cell_type": "markdown",
   "metadata": {},
   "source": [
    "**(c) Define a function to prune a network as used in the LTH paper. It should take an amount to prune as an argument.<span style=\"float:right\"> (3 points)</span>**\n",
    "\n",
    "Hint: for a `Sequential` layer, you can access the layers as `net.children()`. For a layer, you can use `isinstance(layer, torch.nn.Linear)` to check if it is a linear layer."
   ]
  },
  {
   "cell_type": "markdown",
   "metadata": {},
   "source": [
    "TODO: Function implemented as: `TODO` in `dl_assignment_7_common.py`."
   ]
  },
  {
   "cell_type": "markdown",
   "metadata": {},
   "source": [
    "**(d) Check your pruning function on a very simple neural network. Print the layer weights before and after pruning to make sure you understand what is going on.<span style=\"float:right\"> (1 point)</span>**\n",
    "\n",
    "Hint: the PyTorch pruning functions do not change the trainable parameters, rather they set `module.weight` to `weight_orig * weight_mask`."
   ]
  },
  {
   "cell_type": "code",
   "execution_count": null,
   "outputs": [],
   "source": [
    "for net_type in [\"lenet\", \"conv2\", \"conv4\", \"resnet18\", \"vgg19\"]:\n",
    "    net = create_network(net_type)\n",
    "    params_before = sum(p.numel() for p in net.parameters())\n",
    "    prune_network(net, net_type, 0.5)\n",
    "    params_after = params_before - sum(torch.sum(b == 0) for b in net.buffers()).item()\n",
    "    print(\"Net: \" + net_type + \" Before pruning: \" + str(params_before) + \" After pruning: \" + str(params_after) +\n",
    "          \" Pruned: \" + str(round(abs(1-(params_after / params_before))*100, 2)))"
   ],
   "metadata": {
    "collapsed": false
   }
  },
  {
   "cell_type": "code",
   "execution_count": null,
   "outputs": [],
   "source": [
    "net_type = \"lenet\"\n",
    "net = create_network(net_type)\n",
    "print(\"Before: \" + str(list(net.children())[0].weight))\n",
    "prune_network(net, net_type, 0.5)\n",
    "print(\"After: \" + str(list(net.children())[0].weight))"
   ],
   "metadata": {
    "collapsed": false
   }
  },
  {
   "cell_type": "markdown",
   "metadata": {},
   "source": [
    "**(e) Define a function that applies the pruning mask from a pruned network to another network of the same architecture.<span style=\"float:right\"> (2 points)</span>**\n",
    "\n",
    "This function should only do pruning (so some weights become 0), other weights should remain the same.\n",
    "\n",
    "Hint: the pruning functions already generate and store pruning masks. You should be able to extract these from a pruned network.\n",
    "\n",
    "Hint 2: `custom_from_mask`"
   ]
  },
  {
   "cell_type": "markdown",
   "metadata": {},
   "source": [
    "TODO: Function implemented as: `TODO` in `dl_assignment_7_common.py`"
   ]
  },
  {
   "cell_type": "markdown",
   "metadata": {},
   "source": [
    "**(f) Check your mask copy function on a very simple neural network. Check that only the pruning mask is copied.<span style=\"float:right\"> (1 point)</span>**"
   ]
  },
  {
   "cell_type": "code",
   "execution_count": null,
   "outputs": [],
   "source": [
    "net_type = \"lenet\"\n",
    "net_in = create_network(net_type)\n",
    "prune_network(net_in, net_type, 0.5)\n",
    "\n",
    "net_out = create_network(net_type)\n",
    "print(\"Before: \" + str(list(net_out.children())[0].weight))\n",
    "params_before = sum(p.numel() for p in net.parameters())\n",
    "\n",
    "prune_network_from_mask(net_in, net_out)\n",
    "params_after = params_before - sum(torch.sum(b == 0) for b in net_out.buffers()).item()\n",
    "print(\"After: \" + str(list(net_out.children())[0].weight))\n",
    "\n",
    "print(\"Before pruning: \" + str(params_before) + \" After pruning: \" + str(params_after) +\n",
    "      \" Pruned: \" + str(round(abs(1-(params_after / params_before))*100, 2)))"
   ],
   "metadata": {
    "collapsed": false
   }
  },
  {
   "cell_type": "code",
   "execution_count": null,
   "outputs": [],
   "source": [
    "list(net_out.named_parameters())"
   ],
   "metadata": {
    "collapsed": false
   }
  },
  {
   "cell_type": "markdown",
   "metadata": {},
   "source": [
    "**(g) Define a function that randomly prunes a network.<span style=\"float:right\"> (1 point)</span>**"
   ]
  },
  {
   "cell_type": "markdown",
   "metadata": {},
   "source": [
    "TODO: Function implemented as: `TODO` in `dl_assignment_7_common.py`"
   ]
  },
  {
   "cell_type": "markdown",
   "metadata": {},
   "source": [
    "**(h) Check the above function.<span style=\"float:right\"> (1 point)</span>**"
   ]
  },
  {
   "cell_type": "code",
   "execution_count": null,
   "outputs": [],
   "source": [
    "for net_type in [\"lenet\", \"conv2\", \"conv4\", \"resnet18\", \"vgg19\"]:\n",
    "    net = create_network(net_type)\n",
    "    params_before = sum(p.numel() for p in net.parameters())\n",
    "    prune_network(net, net_type, 0.5, prune_type=prune.RandomUnstructured)\n",
    "    params_after = params_before - sum(torch.sum(b == 0) for b in net.buffers()).item()\n",
    "    print(\"Net: \" + net_type + \" Before pruning: \" + str(params_before) + \" After pruning: \" + str(params_after) +\n",
    "          \" Pruned: \" + str(round(abs(1-(params_after / params_before))*100, 2)))"
   ],
   "metadata": {
    "collapsed": false
   }
  },
  {
   "cell_type": "markdown",
   "metadata": {},
   "source": [
    "**(i) Define a function that performs the experiment described in Section 1 of the LTH paper on a given dataset and with a given architecture.<span style=\"float:right\"> (2 points)</span>**\n",
    "\n",
    "Save all needed results to a file, such as test loss and accuracy. This will make your job easier later on."
   ]
  },
  {
   "cell_type": "markdown",
   "metadata": {},
   "source": [
    "TODO: Function implemented as: `TODO` in `dl_assignment_7_common.py`"
   ]
  },
  {
   "cell_type": "markdown",
   "metadata": {},
   "source": [
    "## 7.5 Confirming the Lottery Ticket Hypothesis (10 points)"
   ]
  },
  {
   "cell_type": "markdown",
   "metadata": {},
   "source": [
    "**(a) Perform the experiments needed to reproduce the red lines in Figure 1 from the LTH paper.<span style=\"float:right\"> (6 points)</span>**\n",
    "\n",
    "* It is ok to ignore the error bars for now, and focus on doing one series of experiments.\n",
    "* You may also reduce the number of points in the plot to keep the computation time managable.\n",
    "* You do not have to match the visual style of the figure.\n",
    "\n",
    "Hint: create a python script (`experiment1-{dataset}-{method}.py`) that does all the training as needed.\n",
    "Then load the checkpoint files and do your analysis here.\n",
    "You may also want to define more helper functions.\n",
    "\n",
    "Hint 2: look at previous assignments for how to plot. If you do want to include error bars, see also [documentation for `plt.errorbar`](https://matplotlib.org/stable/api/_as_gen/matplotlib.pyplot.errorbar.html)."
   ]
  },
  {
   "cell_type": "markdown",
   "metadata": {},
   "source": [
    "TODO: Training implemented in `TODO.py`"
   ]
  },
  {
   "cell_type": "code",
   "execution_count": null,
   "metadata": {},
   "outputs": [],
   "source": [
    "# TODO: your code here"
   ]
  },
  {
   "cell_type": "markdown",
   "metadata": {},
   "source": [
    "**(b) Do your results match the paper? Discuss similarities and differences.<span style=\"float:right\"> (2 points)</span>**"
   ]
  },
  {
   "cell_type": "markdown",
   "metadata": {},
   "source": [
    "TODO: your answer here."
   ]
  },
  {
   "cell_type": "markdown",
   "metadata": {},
   "source": [
    "**(c) What can you conclude from this experiment?<span style=\"float:right\"> (2 points)</span>**"
   ]
  },
  {
   "cell_type": "markdown",
   "metadata": {},
   "source": [
    "TODO: your answer here."
   ]
  },
  {
   "cell_type": "markdown",
   "metadata": {},
   "source": [
    "## 7.6 Experiments from Section 2 (12 points)"
   ]
  },
  {
   "cell_type": "markdown",
   "metadata": {},
   "source": [
    "**(a) What is the difference between the experiment in Figure 1 and Figure 3 of the paper.<span style=\"float:right\"> (1 point)</span>**\n",
    "\n",
    "Hint: are there differences in the method, the architecture, or the dataset?"
   ]
  },
  {
   "cell_type": "markdown",
   "metadata": {},
   "source": [
    "TODO: your answer here."
   ]
  },
  {
   "cell_type": "markdown",
   "metadata": {},
   "source": [
    "**(b) Implement the iterative pruning method from the paper.<span style=\"float:right\"> (3 points)</span>**"
   ]
  },
  {
   "cell_type": "markdown",
   "metadata": {},
   "source": [
    "TODO: Function implemented as: `TODO` in `dl_assignment_7_common.py`"
   ]
  },
  {
   "cell_type": "markdown",
   "metadata": {},
   "source": [
    "**(c) Perform the experiments needed to reproduce Figure 4a from the paper.<span style=\"float:right\"> (4 points)</span>**\n",
    "\n",
    "Hint: see previous section"
   ]
  },
  {
   "cell_type": "markdown",
   "metadata": {},
   "source": [
    "TODO: Training implemented in `TODO.py`"
   ]
  },
  {
   "cell_type": "code",
   "execution_count": null,
   "metadata": {},
   "outputs": [],
   "source": [
    "# TODO: your code here"
   ]
  },
  {
   "cell_type": "markdown",
   "metadata": {},
   "source": [
    "**(d) Do your results match the paper? Discuss similarities and differences.<span style=\"float:right\"> (2 points)</span>**"
   ]
  },
  {
   "cell_type": "markdown",
   "metadata": {},
   "source": [
    "TODO: your answer here."
   ]
  },
  {
   "cell_type": "markdown",
   "metadata": {},
   "source": [
    "**(e) What can you conclude from this experiment?<span style=\"float:right\"> (2 points)</span>**"
   ]
  },
  {
   "cell_type": "markdown",
   "metadata": {},
   "source": [
    "TODO: your answer here."
   ]
  },
  {
   "cell_type": "markdown",
   "metadata": {},
   "source": [
    "## 7.7 Experiments from Section 4 (7 points)\n",
    "\n",
    "Section 3 and 4 deal with convolutional neural networks. We are going to skip the networks in section 3, and move on to Figure 8."
   ]
  },
  {
   "cell_type": "markdown",
   "metadata": {},
   "source": [
    "**(a) Section 4 of the paper describes a slightly different pruning method. Implement that method.<span style=\"float:right\"> (2 points)</span>**\n",
    "\n",
    "Hint: look at [`torch.nn.utils.prune.global_unstructured`](https://pytorch.org/docs/stable/generated/torch.nn.utils.prune.global_unstructured.html) and at the examples on that page.\n",
    "\n",
    "If you get stuck on this step, you can continue with the same pruning methods as before."
   ]
  },
  {
   "cell_type": "markdown",
   "metadata": {},
   "source": [
    "TODO: Function implemented as: `TODO` in `dl_assignment_7_common.py`"
   ]
  },
  {
   "cell_type": "markdown",
   "metadata": {},
   "source": [
    "**(b) Implement a function that constructs the network architecture used in Figure 8.<span style=\"float:right\"> (1 point)</span>**\n",
    "\n",
    "Extend the `create_network` function defined earlier.\n",
    "\n",
    "Hint: VGG16 and Resnet18 are [predefined in torchvision](https://pytorch.org/vision/0.12/models.html)."
   ]
  },
  {
   "cell_type": "markdown",
   "metadata": {},
   "source": [
    "**(c) Perform the experiments needed to reproduce Figure 8 from the LTH paper.<span style=\"float:right\"> (2 points)</span>**\n",
    "\n",
    "* Again: you do not need to include error bars.\n",
    "* You may limit yourself to one of the figures."
   ]
  },
  {
   "cell_type": "markdown",
   "metadata": {},
   "source": [
    "TODO: Training implemented in `TODO.py`"
   ]
  },
  {
   "cell_type": "code",
   "execution_count": null,
   "metadata": {},
   "outputs": [],
   "source": [
    "# TODO: your code here"
   ]
  },
  {
   "cell_type": "markdown",
   "metadata": {},
   "source": [
    "**(d) Do your results match the paper? Discuss similarities and differences.<span style=\"float:right\"> (2 points)</span>**"
   ]
  },
  {
   "cell_type": "markdown",
   "metadata": {},
   "source": [
    "TODO: your answer here."
   ]
  },
  {
   "cell_type": "markdown",
   "metadata": {},
   "source": [
    "## The end\n",
    "\n",
    "Well done! Please double check the instructions at the top before you submit your results."
   ]
  },
  {
   "cell_type": "markdown",
   "metadata": {},
   "source": [
    "*This assignment has 65 points.*\n",
    "<span style=\"float:right;color:#aaa;font-size:10px;\"> Version 97b3d19 / 2023-10-19</span>"
   ]
  }
 ],
 "metadata": {
  "kernelspec": {
   "display_name": "Python 3 (ipykernel)",
   "language": "python",
   "name": "python3"
  },
  "language_info": {
   "codemirror_mode": {
    "name": "ipython",
    "version": 3
   },
   "file_extension": ".py",
   "mimetype": "text/x-python",
   "name": "python",
   "nbconvert_exporter": "python",
   "pygments_lexer": "ipython3",
   "version": "3.10.10"
  }
 },
 "nbformat": 4,
 "nbformat_minor": 4
}
