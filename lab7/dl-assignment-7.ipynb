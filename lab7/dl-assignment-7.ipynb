{
 "cells": [
  {
   "cell_type": "markdown",
   "metadata": {},
   "source": [
    "# Deep Learning &mdash; Assignment 7"
   ]
  },
  {
   "cell_type": "markdown",
   "metadata": {},
   "source": [
    "Seventh assignment for the 2023 Deep Learning course (NWI-IMC070) of the Radboud University."
   ]
  },
  {
   "cell_type": "markdown",
   "source": [
    "-----\n",
    "\n",
    "**Names: Luka Mucko, Luca Poli**\n",
    "\n",
    "**Group: 46**\n",
    "\n",
    "-----"
   ],
   "metadata": {
    "collapsed": false
   }
  },
  {
   "cell_type": "markdown",
   "source": [
    "## Introduction\n",
    "\n",
    "For this assignment we are doing things a bit different.\n",
    "* Your task is to reproduce the paper [The Lottery Ticket Hypothesis: Finding Sparse, Trainable Neural Networks;      Jonathan Frankle, Michael Carbin](https://arxiv.org/pdf/1803.03635.pdf).\n",
    "* Try to follow the experimental settings in that paper, unless there is a reason to deviate.\n",
    "* If the paper is not clear on some details, make a reasonable choice yourself, and motivate that choice.\n",
    "* You will have 3 weeks to work on this assignment.\n",
    "* Be aware that this assignment will take more time than previous ones. It is ok if you do not completely finish it.\n",
    "* We will *not* be providing you with much code. You will have to implement many things yourself.\n",
    "* You may freely use code from earlier weeks, and from the d2l books. Please add a comment to reference the original source.\n",
    "* You may *not* use implementations of the paper you find online.\n",
    "\n",
    "**Tips and hints**\n",
    "* It is allowed and recommended to use more than just this notebook. Make separate python files for a library of functions, and for training and analyses.\n",
    "* If you like working with jupyter notebooks: make a separate notebook for trying things out, and keep this one clean.\n",
    "* Use checkpoint files before and during training.\n",
    "* In the notebook only display and discuss these results.\n",
    "* You may add new cells to this notebook as needed.\n",
    "* While the task is to reproduce parts of a paper, the big picture is more important than the exact details.\n",
    "* It is allowed to discuss the assignment with other groups, but try not to spoil too much.\n",
    "* If you get stuck, contact the teachers via discord."
   ],
   "metadata": {
    "collapsed": false
   }
  },
  {
   "cell_type": "markdown",
   "source": [
    "## Required software\n",
    "\n",
    "If you need to import any additional libraries, add them below."
   ],
   "metadata": {
    "collapsed": false
   }
  },
  {
   "cell_type": "code",
   "execution_count": 233,
   "outputs": [
    {
     "name": "stdout",
     "output_type": "stream",
     "text": [
      "The autoreload extension is already loaded. To reload it, use:\n",
      "  %reload_ext autoreload\n"
     ]
    }
   ],
   "source": [
    "%config InlineBackend.figure_formats = ['png']\n",
    "%matplotlib inline\n",
    "%load_ext autoreload\n",
    "%autoreload 2\n",
    "import torch\n",
    "import torch.nn\n",
    "import torch.nn.utils.prune as prune\n",
    "import torchvision\n",
    "import matplotlib.pyplot as plt\n",
    "import torchvision.transforms as transforms\n",
    "from d2l import torch as d2l\n",
    "from dl_assignment_7_common import *  # Your functions should go here if you want to use them from scripts\n",
    "\n",
    "device = d2l.try_gpu()"
   ],
   "metadata": {
    "collapsed": false,
    "ExecuteTime": {
     "start_time": "2023-10-24T19:16:16.516442Z",
     "end_time": "2023-10-24T19:16:16.697850Z"
    }
   }
  },
  {
   "cell_type": "markdown",
   "source": [
    "## 7.1 The paper (2 points)"
   ],
   "metadata": {
    "collapsed": false
   }
  },
  {
   "cell_type": "markdown",
   "source": [
    "**(a) Read sections 1, 2, and 5 of the paper [The Lottery Ticket Hypothesis: Finding Sparse, Trainable Neural Networks; by Jonathan Frankle, Michael Carbin](https://arxiv.org/pdf/1803.03635.pdf)**\n",
    "\n",
    "We will refer to this as the \"LTH paper\" from now on, or just \"the paper\".\n",
    "To answer some later questions you will also need to look at other sections, and search through the appendices."
   ],
   "metadata": {
    "collapsed": false
   }
  },
  {
   "cell_type": "markdown",
   "source": [
    "**(b) In your own words, briefly explain the key message of the paper.<span style=\"float:right\"> (2 points)</span>**\n",
    "\n",
    "Note: \"briefly\" means: a few sentences at most."
   ],
   "metadata": {
    "collapsed": false
   }
  },
  {
   "cell_type": "markdown",
   "source": [
    "The key message of the paper, is that in large neural network there exist smaller subnetwork (called winning tickets) that can be trained in isolation to achieve comparable performance to the original network (or even better) in less epochs. The winning tickets are found with an iterative process of pruning and retraining."
   ],
   "metadata": {
    "collapsed": false
   }
  },
  {
   "cell_type": "markdown",
   "source": [
    "## 7.2 Models and datasets (9 points)"
   ],
   "metadata": {
    "collapsed": false
   }
  },
  {
   "cell_type": "markdown",
   "source": [
    "**(a) What neural network architectures are used in the paper?<span style=\"float:right\"> (1 point)</span>**"
   ],
   "metadata": {
    "collapsed": false
   }
  },
  {
   "cell_type": "markdown",
   "source": [
    "In the paper the network architectures used are: Lenet, Conv-2, Conv-4, Conv-6, Resnet-18 and VGG-19."
   ],
   "metadata": {
    "collapsed": false
   }
  },
  {
   "cell_type": "markdown",
   "source": [
    "To keep things simple, we will start with a simple architecture, corresponding to what the paper calls `Lenet`."
   ],
   "metadata": {
    "collapsed": false
   }
  },
  {
   "cell_type": "markdown",
   "source": [
    "**(b) Define a function that constructs a `Lenet` network using PyTorch.<span style=\"float:right\"> (2 points)</span>**\n",
    "\n",
    "Copy these definitions to `dl_assignment_7_common.py`.\n",
    "\n",
    "Hint: see Figure 2.\n",
    "\n",
    "Note: the LTH paper is not entirely clear about this, but the convolution layers use `padding='same'`."
   ],
   "metadata": {
    "collapsed": false
   }
  },
  {
   "cell_type": "code",
   "execution_count": 176,
   "outputs": [
    {
     "name": "stdout",
     "output_type": "stream",
     "text": [
      "lenet: 266610 parameters\n",
      "conv2: 4300490 parameters\n",
      "conv4: 2424778 parameters\n",
      "resnet18: 278346 parameters\n",
      "vgg19: 20023882 parameters\n"
     ]
    }
   ],
   "source": [
    "for net_type in [\"lenet\", \"conv2\", \"conv4\", \"resnet18\", \"vgg19\"]:\n",
    "    print(f\"{net_type}: {sum(p.numel() for p in create_network(net_type).parameters())} parameters\")"
   ],
   "metadata": {
    "collapsed": false,
    "ExecuteTime": {
     "start_time": "2023-10-24T17:55:51.713945Z",
     "end_time": "2023-10-24T17:55:52.158493Z"
    }
   }
  },
  {
   "cell_type": "markdown",
   "source": [
    "**(c) Define a function that can construct a network given the architecture name.**\n",
    "\n",
    "To keep the code as generic as possible, we can make function\n",
    "\n",
    "Move the function below to `dl_assignment_7_common.py`, and don't forget to remove it here."
   ],
   "metadata": {
    "collapsed": false
   }
  },
  {
   "cell_type": "code",
   "execution_count": 176,
   "outputs": [],
   "source": [],
   "metadata": {
    "collapsed": false,
    "ExecuteTime": {
     "start_time": "2023-10-24T17:55:52.160496Z",
     "end_time": "2023-10-24T17:55:52.175751Z"
    }
   }
  },
  {
   "cell_type": "markdown",
   "source": [
    "We will do all our experiments with two datasets: MNIST and FashionMNIST\n",
    "\n",
    "**(d) Are these datasets also used in the papers?<span style=\"float:right\"> (1 point)</span>**"
   ],
   "metadata": {
    "collapsed": false
   }
  },
  {
   "cell_type": "markdown",
   "source": [
    "In the paper they use MNIST and CIFAR10, so the dataset FashionMNIST is not used the paper."
   ],
   "metadata": {
    "collapsed": false
   }
  },
  {
   "cell_type": "markdown",
   "source": [
    "**(e) Define a function that loads a dataset given the dataset name.<span style=\"float:right\"> (3 points)</span>**\n",
    "\n",
    "Hint: Standard datasets such as MNIST and CIFAR10 are available in the [torchvision](https://pytorch.org/vision/stable/datasets.html#image-classification) library."
   ],
   "metadata": {
    "collapsed": false
   }
  },
  {
   "cell_type": "markdown",
   "source": [
    "TODO: Function implemented as: `TODO` in `dl_assignment_7_common.py`"
   ],
   "metadata": {
    "collapsed": false
   }
  },
  {
   "cell_type": "markdown",
   "source": [
    "**(f) Most of these datasets come with a predefined train/test split. Is this used in the LTH paper? If so, update the dataset loader to return a pair `(trainset, testset)`.<span style=\"float:right\"> (1 point)</span>**"
   ],
   "metadata": {
    "collapsed": false
   }
  },
  {
   "cell_type": "markdown",
   "source": [
    "In the paper they use the predefined train/test split, which is 60000 training images and 10000 test images for MNIST and 50000 training images and 10000 test images for CIFAR10."
   ],
   "metadata": {
    "collapsed": false
   }
  },
  {
   "cell_type": "markdown",
   "source": [
    "**(g) Does the LTH paper use a validation set? If so, update the dataset loader to return `(train_dataset, validation_dataset, test_dataset)`.<span style=\"float:right\"> (1 point)</span>**\n",
    "\n",
    "Hint: [`random_split`](https://pytorch.org/docs/stable/data.html#torch.utils.data.random_split), and/or see assignment 2."
   ],
   "metadata": {
    "collapsed": false
   }
  },
  {
   "cell_type": "markdown",
   "source": [
    "In the paper they have sampled a validation set of 5000 images from the training set."
   ],
   "metadata": {
    "collapsed": false
   }
  },
  {
   "cell_type": "code",
   "execution_count": 177,
   "outputs": [
    {
     "name": "stdout",
     "output_type": "stream",
     "text": [
      "MNIST: 55000 training images, 5000 validation images, 10000 test images\n",
      "Files already downloaded and verified\n",
      "Files already downloaded and verified\n",
      "CIFAR10: 45000 training images, 5000 validation images, 10000 test images\n",
      "FashionMNIST: 55000 training images, 5000 validation images, 10000 test images\n"
     ]
    }
   ],
   "source": [
    "for dataset in [\"MNIST\", \"CIFAR10\" ,\"FashionMNIST\"]:\n",
    "    train, validation, test = get_dataloaders(dataset)\n",
    "    print(f\"{dataset}: {len(train.dataset)} training images, {len(validation.dataset)} validation images, {len(test.dataset)} test images\")"
   ],
   "metadata": {
    "collapsed": false,
    "ExecuteTime": {
     "start_time": "2023-10-24T17:55:52.176836Z",
     "end_time": "2023-10-24T17:55:56.078283Z"
    }
   }
  },
  {
   "cell_type": "markdown",
   "metadata": {},
   "source": [
    "## 7.3 Training (12 points)"
   ]
  },
  {
   "cell_type": "markdown",
   "metadata": {},
   "source": [
    "**(a) What optimization algorithm is used in the paper? What values are used for the hyperparameters?<span style=\"float:right\"> (1.5 points)</span>**\n",
    "\n",
    "If you are unable to find the values used for some of the hyperparameters, use reasonable default values."
   ]
  },
  {
   "cell_type": "markdown",
   "metadata": {},
   "source": [
    "ADAM was used as the optimizer for Lenet and Conv networks, for resnet and VGG SGD with momentum was used. <br/>\n",
    "They use learning rates $3\\cdot 10^{-4}$, $1.2\\cdot 10^{-3}$, $2\\cdot 10^{-4}$ for Lenet and Conv networks. <br/>\n",
    "For sgd with momentum they used learning rates 0.1-0.01-0.001 and momentum 0.9\n"
   ]
  },
  {
   "cell_type": "markdown",
   "metadata": {},
   "source": [
    "**(b) Implement an evaluation function, that evaluates a model on a validation or test set (passed as an argument).<span style=\"float:right\"> (2 points)</span>**\n",
    "\n",
    "The function should return loss and accuracy.\n",
    "\n",
    "Hints: the book defines a function for this that you may use (see assignment 3)."
   ]
  },
  {
   "cell_type": "code",
   "execution_count": 178,
   "outputs": [],
   "source": [
    "def accuracy(model, epoch_stats, datasets, loss_fn):\n",
    "    with torch.no_grad():\n",
    "        for name, dataset in datasets.items():\n",
    "            eval_metric = d2l.Accumulator(2)\n",
    "            for x, y in dataset:\n",
    "                x, y = x.to(device), y.to(device, torch.long)\n",
    "                y_hat = model(x)\n",
    "                loss = loss_fn(y_hat, y).item()\n",
    "                eval_metric.add(loss * x.shape[0], x.shape[0])\n",
    "            epoch_stats[name + \"_loss\"].append(eval_metric[0] / eval_metric[1])\n",
    "            epoch_stats[name + \"_acc\"].append(d2l.evaluate_accuracy_gpu(model, dataset))\n",
    "            eval_metric.reset()"
   ],
   "metadata": {
    "collapsed": false,
    "ExecuteTime": {
     "start_time": "2023-10-24T17:55:56.064282Z",
     "end_time": "2023-10-24T17:55:56.230495Z"
    }
   }
  },
  {
   "cell_type": "markdown",
   "metadata": {},
   "source": [
    "**(c) Implement a training loop.<span style=\"float:right\"> (4 points)</span>**\n",
    "\n",
    "Make sure that the network parameters are saved to a file before and during training."
   ]
  },
  {
   "cell_type": "code",
   "execution_count": 179,
   "outputs": [],
   "source": [
    "def train(model_name, dataset, optimizer, batch_size=64, lr=0.01, epochs=100, device=\"cuda\", momentum=0):\n",
    "    train, valid, test = get_dataloaders(dataset, batch_size)\n",
    "    image_size = len(train.dataset.getitem(0)[0])**(1/2)\n",
    "    model = create_network(model_name, image_size=image_size)\n",
    "    model.to(device)\n",
    "    \n",
    "    #Optimizer is the string \"adam\" or \"sgd\"\n",
    "    if optimizer==\"adam\":\n",
    "        optimizer=torch.optim.Adam(model.parameters(), lr)\n",
    "    elif optimizer==\"sgd\":\n",
    "        optimizer=torch.optim.SGD(model.parameters(), lr, momentum)\n",
    "    else:\n",
    "        return Exception(\"Optimizer should be adam or sgd\")\n",
    "    loss_fn = torch.nn.CrossEntropyLoss()\n",
    "\n",
    "    path = f\"checkpoints/{model_name}_{dataset}_{lr}_0.pth\"\n",
    "    torch.save(model, path)\n",
    "    \n",
    "    datasets = {\"valid\": valid, \"test\": test, \"train\": train}\n",
    "    \n",
    "    epoch_stats = {\"train_loss\": [], \"valid_loss\": [], \"test_loss\": [], \"train_acc\": [], \"valid_acc\": [], \"test_acc\": []}\n",
    "    record_metrics(model, epoch_stats, datasets, loss_fn)\n",
    "\n",
    "    for epoch in range(1, epochs+1):\n",
    "        model.train()\n",
    "\n",
    "        for i, (x, y) in enumerate(train):\n",
    "            optimizer.zero_grad()\n",
    "            x, y= x.to(device), y.to(device, torch.long)\n",
    "            y_hat = model(x)\n",
    "            loss = loss_fn(y_hat, y) \n",
    "            loss.backward()\n",
    "            optimizer.step()\n",
    "        \n",
    "        if epoch % 10 ==0:\n",
    "            path = f\"checkpoints/{model_name}_{dataset}_{lr}_{epoch}.pth\"\n",
    "            record_metrics(model, epoch_stats, datasets, loss_fn)\n",
    "            torch.save({\"model\": model, \"epoch_stats\": epoch_stats}, path)\n",
    "    return epoch_stats"
   ],
   "metadata": {
    "collapsed": false,
    "ExecuteTime": {
     "start_time": "2023-10-24T17:55:56.241954Z",
     "end_time": "2023-10-24T17:55:56.404695Z"
    }
   }
  },
  {
   "cell_type": "markdown",
   "metadata": {},
   "source": [
    "Because you will be doing many experiments, it would be a shame to have to re-run them when you reload the notebook. A better solution is to save model checkpoints.\n",
    "See [the tutorial on saving and loading model parameters](https://pytorch.org/tutorials/beginner/basics/saveloadrun_tutorial.html) for how to implement this in PyTorch.\n",
    "\n",
    "**(d) Change the training function so that it saves the model at the start and at the end of training.<span style=\"float:right\"> (1 point)</span>**\n",
    "\n",
    "Hint: Saving a model requires a filename. Because you will be running many experiments, come up with a descriptive naming convention and/or directory structure. Example: `path = f\"checkpoints/model-{arch}-{dataset}-{run}-{phase_of_the_moon}-{iteration}.pth\"`.\n",
    "\n",
    "Hint 2: it is easier to save the whole model, see the bottom of the tutorial."
   ]
  },
  {
   "cell_type": "markdown",
   "metadata": {},
   "source": [
    "**(e) Train a simple network on a simple dataset.<span style=\"float:right\"> (1 point)</span>**\n",
    "\n",
    "You may want to create a new python script (`simple_training.py`), and just load the trained network here instead."
   ]
  },
  {
   "cell_type": "markdown",
   "metadata": {},
   "source": [
    "**(f) Does the training converge? How well does your network perform?<span style=\"float:right\"> (1 point)</span>**"
   ]
  },
  {
   "cell_type": "markdown",
   "metadata": {},
   "source": [
    "TODO: your answer here."
   ]
  },
  {
   "cell_type": "markdown",
   "metadata": {},
   "source": [
    "**(g) Re-train the same network, with the *same* initial weights. Are the results *exactly* the same?<span style=\"float:right\"> (2 points)</span>**"
   ]
  },
  {
   "cell_type": "markdown",
   "metadata": {},
   "source": [
    "TODO: your answer here."
   ]
  },
  {
   "cell_type": "markdown",
   "metadata": {},
   "source": [
    "**(h) The LTH paper uses a variant of 'early-stopping'. How is this done? Implement it in your training loop.<span style=\"float:right\"> (1 point)</span>**\n",
    "\n",
    "Hint: A simple way to keep track of the best model is to create a model checkpoint in a file `\"checkpoints/model-...-best.pth\"`.\n",
    "\n",
    "Hint 2: It is okay to compute the validation scores less often, this can speed up training."
   ]
  },
  {
   "cell_type": "markdown",
   "metadata": {},
   "source": [
    "TODO: your answer here."
   ]
  },
  {
   "cell_type": "markdown",
   "metadata": {},
   "source": [
    "## 7.4 Pruning (13 points)\n",
    "\n",
    "Next up, you should implement pruning. Starting with the one-shot pruning method.\n",
    "\n",
    "Hint: \n",
    "Pruning is implemented already in PyTorch, in the module [torch.utils.prune](https://pytorch.org/docs/stable/nn.html#module-torch.nn.utils).\n",
    "The pruning method used in the LTH paper corresponds is called [l1_unstructured](https://pytorch.org/docs/stable/generated/torch.nn.utils.prune.l1_unstructured.html) in PyTorch."
   ]
  },
  {
   "cell_type": "markdown",
   "metadata": {},
   "source": [
    "**(a) The PyTorch pruning function accepts an amount to prune. Is that the amount of weights to set to 0 or the amount to keep nonzero? Is the paper using the same?<span style=\"float:right\"> (1 point)</span>**"
   ]
  },
  {
   "cell_type": "markdown",
   "metadata": {},
   "source": [
    "The amount in the pytorch pruning function is the amount to set to 0. In the paper they indicate whit p% the amount to prune (like in pytorch) but the result are expressed with Pm which is the percentage of weights remaining."
   ]
  },
  {
   "cell_type": "markdown",
   "metadata": {},
   "source": [
    "**(b) Should all parameters be pruned or only weights? Is the pruning rate the same for all types of layers?<span style=\"float:right\"> (1 point)</span>**"
   ]
  },
  {
   "cell_type": "markdown",
   "metadata": {},
   "source": [
    "Pruning biases can lead to difficulties in training the network effectively, so we should only prune weights (like in the paper). The pruning rate change for different types of layers (for fully connected and convolutional layers), but it does not depend on the layer position (except for the connections to the last layer)."
   ]
  },
  {
   "cell_type": "markdown",
   "metadata": {},
   "source": [
    "**(c) Define a function to prune a network as used in the LTH paper. It should take an amount to prune as an argument.<span style=\"float:right\"> (3 points)</span>**\n",
    "\n",
    "Hint: for a `Sequential` layer, you can access the layers as `net.children()`. For a layer, you can use `isinstance(layer, torch.nn.Linear)` to check if it is a linear layer."
   ]
  },
  {
   "cell_type": "markdown",
   "metadata": {},
   "source": [
    "TODO: Function implemented as: `TODO` in `dl_assignment_7_common.py`."
   ]
  },
  {
   "cell_type": "markdown",
   "metadata": {},
   "source": [
    "**(d) Check your pruning function on a very simple neural network. Print the layer weights before and after pruning to make sure you understand what is going on.<span style=\"float:right\"> (1 point)</span>**\n",
    "\n",
    "Hint: the PyTorch pruning functions do not change the trainable parameters, rather they set `module.weight` to `weight_orig * weight_mask`."
   ]
  },
  {
   "cell_type": "code",
   "execution_count": 231,
   "outputs": [
    {
     "name": "stdout",
     "output_type": "stream",
     "text": [
      "Net: lenet Before pruning: 266610 After pruning: 133760 Pruned: 49.83\n",
      "Net: conv2 Before pruning: 4300490 After pruning: 2151210 Pruned: 49.98\n",
      "Net: conv4 Before pruning: 2424778 After pruning: 1213482 Pruned: 49.95\n",
      "Net: resnet18 Before pruning: 278346 After pruning: 144642 Pruned: 48.04\n",
      "Net: vgg19 Before pruning: 20023882 After pruning: 10015018 Pruned: 49.98\n"
     ]
    }
   ],
   "source": [
    "for net_type in [\"lenet\", \"conv2\", \"conv4\", \"resnet18\", \"vgg19\"]:\n",
    "    net = create_network(net_type)\n",
    "    params_before = sum(p.numel() for p in net.parameters())\n",
    "    prune_network(net, net_type, 0.5)\n",
    "    params_after = params_before - sum(torch.sum(b == 0) for b in net.buffers()).item()\n",
    "    print(\"Net: \" + net_type + \" Before pruning: \" + str(params_before) + \" After pruning: \" + str(params_after) +\n",
    "          \" Pruned: \" + str(round(abs(1-(params_after / params_before))*100, 2)))"
   ],
   "metadata": {
    "collapsed": false,
    "ExecuteTime": {
     "start_time": "2023-10-24T19:14:43.706802Z",
     "end_time": "2023-10-24T19:14:49.791498Z"
    }
   }
  },
  {
   "cell_type": "code",
   "execution_count": 230,
   "outputs": [
    {
     "name": "stdout",
     "output_type": "stream",
     "text": [
      "Before: Parameter containing:\n",
      "tensor([[ 0.0048, -0.0006, -0.0015,  ..., -0.0338, -0.0199,  0.0295],\n",
      "        [-0.0130,  0.0282,  0.0304,  ...,  0.0295,  0.0094,  0.0204],\n",
      "        [ 0.0340,  0.0056,  0.0209,  ...,  0.0355,  0.0340, -0.0319],\n",
      "        ...,\n",
      "        [-0.0066, -0.0228, -0.0109,  ..., -0.0209,  0.0120,  0.0076],\n",
      "        [-0.0044, -0.0245,  0.0315,  ..., -0.0216,  0.0311,  0.0067],\n",
      "        [ 0.0276, -0.0063,  0.0151,  ...,  0.0027,  0.0061, -0.0116]],\n",
      "       requires_grad=True)\n",
      "After: tensor([[ 0.0000, -0.0000, -0.0000,  ..., -0.0338, -0.0199,  0.0295],\n",
      "        [-0.0000,  0.0282,  0.0304,  ...,  0.0295,  0.0000,  0.0204],\n",
      "        [ 0.0340,  0.0000,  0.0209,  ...,  0.0355,  0.0340, -0.0319],\n",
      "        ...,\n",
      "        [-0.0000, -0.0228, -0.0000,  ..., -0.0209,  0.0000,  0.0000],\n",
      "        [-0.0000, -0.0245,  0.0315,  ..., -0.0216,  0.0311,  0.0000],\n",
      "        [ 0.0276, -0.0000,  0.0000,  ...,  0.0000,  0.0000, -0.0000]],\n",
      "       grad_fn=<MulBackward0>)\n"
     ]
    }
   ],
   "source": [
    "net_type = \"lenet\"\n",
    "net = create_network(net_type)\n",
    "print(\"Before: \" + str(list(net.children())[0].weight))\n",
    "prune_network(net, net_type, 0.5)\n",
    "print(\"After: \" + str(list(net.children())[0].weight))"
   ],
   "metadata": {
    "collapsed": false,
    "ExecuteTime": {
     "start_time": "2023-10-24T19:14:37.219209Z",
     "end_time": "2023-10-24T19:14:37.484138Z"
    }
   }
  },
  {
   "cell_type": "markdown",
   "metadata": {},
   "source": [
    "**(e) Define a function that applies the pruning mask from a pruned network to another network of the same architecture.<span style=\"float:right\"> (2 points)</span>**\n",
    "\n",
    "This function should only do pruning (so some weights become 0), other weights should remain the same.\n",
    "\n",
    "Hint: the pruning functions already generate and store pruning masks. You should be able to extract these from a pruned network.\n",
    "\n",
    "Hint 2: `custom_from_mask`"
   ]
  },
  {
   "cell_type": "markdown",
   "metadata": {},
   "source": [
    "TODO: Function implemented as: `TODO` in `dl_assignment_7_common.py`"
   ]
  },
  {
   "cell_type": "markdown",
   "metadata": {},
   "source": [
    "**(f) Check your mask copy function on a very simple neural network. Check that only the pruning mask is copied.<span style=\"float:right\"> (1 point)</span>**"
   ]
  },
  {
   "cell_type": "code",
   "execution_count": 224,
   "outputs": [
    {
     "name": "stdout",
     "output_type": "stream",
     "text": [
      "Before: Parameter containing:\n",
      "tensor([[-0.0192,  0.0184, -0.0233,  ..., -0.0091, -0.0259,  0.0133],\n",
      "        [ 0.0141,  0.0333, -0.0320,  ...,  0.0101,  0.0302,  0.0028],\n",
      "        [ 0.0115,  0.0065, -0.0138,  ...,  0.0257, -0.0014, -0.0153],\n",
      "        ...,\n",
      "        [-0.0051, -0.0053,  0.0119,  ..., -0.0275, -0.0251, -0.0210],\n",
      "        [-0.0036,  0.0233, -0.0072,  ..., -0.0318, -0.0299,  0.0344],\n",
      "        [-0.0003,  0.0093,  0.0321,  ...,  0.0155,  0.0353, -0.0147]],\n",
      "       requires_grad=True)\n",
      "After: tensor([[-0.0000,  0.0184, -0.0000,  ..., -0.0091, -0.0259,  0.0133],\n",
      "        [ 0.0141,  0.0333, -0.0000,  ...,  0.0101,  0.0000,  0.0000],\n",
      "        [ 0.0115,  0.0065, -0.0138,  ...,  0.0000, -0.0014, -0.0000],\n",
      "        ...,\n",
      "        [-0.0000, -0.0053,  0.0119,  ..., -0.0275, -0.0251, -0.0210],\n",
      "        [-0.0000,  0.0233, -0.0000,  ..., -0.0000, -0.0000,  0.0344],\n",
      "        [-0.0000,  0.0000,  0.0000,  ...,  0.0000,  0.0000, -0.0147]],\n",
      "       grad_fn=<MulBackward0>)\n",
      "Before pruning: 266610 After pruning: 133760 Pruned: 49.83\n"
     ]
    }
   ],
   "source": [
    "net_type = \"lenet\"\n",
    "net_in = create_network(net_type)\n",
    "prune_network(net_in, net_type, 0.5)\n",
    "\n",
    "net_out = create_network(net_type)\n",
    "print(\"Before: \" + str(list(net_out.children())[0].weight))\n",
    "params_before = sum(p.numel() for p in net.parameters())\n",
    "\n",
    "prune_network_from_mask(net_in, net_out)\n",
    "params_after = params_before - sum(torch.sum(b == 0) for b in net_out.buffers()).item()\n",
    "print(\"After: \" + str(list(net_out.children())[0].weight))\n",
    "\n",
    "print(\"Before pruning: \" + str(params_before) + \" After pruning: \" + str(params_after) +\n",
    "      \" Pruned: \" + str(round(abs(1-(params_after / params_before))*100, 2)))"
   ],
   "metadata": {
    "collapsed": false,
    "ExecuteTime": {
     "start_time": "2023-10-24T19:07:59.280623Z",
     "end_time": "2023-10-24T19:07:59.526460Z"
    }
   }
  },
  {
   "cell_type": "code",
   "execution_count": 220,
   "outputs": [
    {
     "data": {
      "text/plain": "[('0.bias',\n  Parameter containing:\n  tensor([-0.0302, -0.0092,  0.0188, -0.0272,  0.0187, -0.0023, -0.0107,  0.0073,\n          -0.0133,  0.0185, -0.0246,  0.0112, -0.0021,  0.0056, -0.0346, -0.0070,\n          -0.0241,  0.0303, -0.0014, -0.0113,  0.0278, -0.0065,  0.0128, -0.0198,\n          -0.0047, -0.0235, -0.0336, -0.0243,  0.0252,  0.0179, -0.0061, -0.0099,\n           0.0249, -0.0289,  0.0316,  0.0290, -0.0352, -0.0008, -0.0291,  0.0062,\n           0.0343,  0.0337,  0.0032,  0.0146,  0.0303, -0.0228,  0.0214,  0.0148,\n          -0.0116, -0.0181,  0.0094,  0.0140,  0.0329,  0.0176, -0.0137,  0.0042,\n          -0.0092, -0.0090, -0.0088, -0.0222,  0.0339,  0.0023, -0.0082,  0.0226,\n          -0.0248, -0.0249, -0.0332, -0.0198, -0.0319, -0.0164,  0.0265, -0.0097,\n          -0.0104,  0.0228, -0.0072, -0.0177,  0.0141,  0.0110, -0.0295,  0.0024,\n          -0.0137, -0.0308, -0.0352, -0.0191,  0.0333,  0.0353,  0.0116, -0.0023,\n          -0.0224, -0.0068, -0.0325,  0.0267,  0.0041, -0.0352, -0.0069, -0.0184,\n           0.0047,  0.0152,  0.0306, -0.0080, -0.0208, -0.0254, -0.0079,  0.0294,\n          -0.0260, -0.0067, -0.0330, -0.0132, -0.0235,  0.0077,  0.0308, -0.0237,\n           0.0232,  0.0271, -0.0340, -0.0151, -0.0221, -0.0147,  0.0002,  0.0254,\n           0.0012, -0.0141, -0.0265, -0.0074, -0.0149, -0.0344,  0.0344, -0.0108,\n          -0.0281, -0.0306,  0.0093, -0.0171, -0.0122,  0.0005, -0.0206,  0.0195,\n          -0.0282,  0.0129,  0.0100,  0.0208,  0.0170, -0.0125, -0.0043,  0.0275,\n          -0.0086, -0.0134, -0.0348,  0.0190, -0.0323,  0.0073, -0.0224,  0.0202,\n           0.0005, -0.0068,  0.0156,  0.0245,  0.0144, -0.0251,  0.0122,  0.0012,\n           0.0166,  0.0277,  0.0150, -0.0117,  0.0049,  0.0096,  0.0276, -0.0030,\n           0.0077,  0.0335, -0.0344,  0.0025, -0.0058,  0.0329, -0.0186,  0.0116,\n          -0.0152,  0.0141, -0.0280, -0.0235,  0.0148,  0.0178, -0.0004, -0.0342,\n           0.0121, -0.0051, -0.0039, -0.0312,  0.0029,  0.0332, -0.0207, -0.0152,\n          -0.0045,  0.0320, -0.0188, -0.0307, -0.0082, -0.0348, -0.0092,  0.0198,\n          -0.0206,  0.0261,  0.0190, -0.0173, -0.0064,  0.0076, -0.0083,  0.0235,\n           0.0225,  0.0054, -0.0022,  0.0321,  0.0318, -0.0192, -0.0295,  0.0079,\n           0.0052,  0.0256, -0.0094, -0.0261,  0.0167, -0.0173,  0.0033,  0.0063,\n           0.0275, -0.0200,  0.0092,  0.0105, -0.0122, -0.0351, -0.0191, -0.0176,\n           0.0013, -0.0099,  0.0219,  0.0303,  0.0017,  0.0337,  0.0115, -0.0191,\n           0.0004, -0.0091,  0.0080,  0.0060, -0.0055, -0.0221,  0.0212, -0.0054,\n           0.0217, -0.0236, -0.0092, -0.0276,  0.0113, -0.0046,  0.0276,  0.0222,\n           0.0161,  0.0256, -0.0019,  0.0236, -0.0051,  0.0240,  0.0046,  0.0191,\n          -0.0087, -0.0142, -0.0026,  0.0124, -0.0345,  0.0121, -0.0309, -0.0133,\n           0.0337, -0.0295,  0.0202, -0.0160, -0.0325,  0.0137,  0.0176,  0.0351,\n          -0.0305, -0.0148,  0.0199, -0.0238, -0.0343, -0.0236,  0.0014, -0.0073,\n           0.0077, -0.0066,  0.0258, -0.0054, -0.0053, -0.0001,  0.0093,  0.0352,\n          -0.0179,  0.0036,  0.0045,  0.0079], requires_grad=True)),\n ('0.weight_orig',\n  Parameter containing:\n  tensor([[ 0.0013, -0.0285, -0.0021,  ...,  0.0151,  0.0263, -0.0292],\n          [-0.0320,  0.0336,  0.0056,  ..., -0.0035,  0.0076, -0.0238],\n          [ 0.0062,  0.0240, -0.0045,  ..., -0.0160,  0.0185, -0.0040],\n          ...,\n          [-0.0071, -0.0354, -0.0258,  ...,  0.0288,  0.0035, -0.0108],\n          [ 0.0010,  0.0087, -0.0017,  ...,  0.0012,  0.0267,  0.0205],\n          [ 0.0174,  0.0229,  0.0355,  ...,  0.0049, -0.0130,  0.0286]],\n         requires_grad=True)),\n ('2.bias',\n  Parameter containing:\n  tensor([-0.0209, -0.0106, -0.0162,  0.0484,  0.0430, -0.0297,  0.0336,  0.0127,\n          -0.0266,  0.0029, -0.0059, -0.0165,  0.0414, -0.0210, -0.0118, -0.0459,\n          -0.0211, -0.0424, -0.0246,  0.0409,  0.0560,  0.0549,  0.0521,  0.0479,\n           0.0555, -0.0543,  0.0255,  0.0140,  0.0387, -0.0543,  0.0313,  0.0523,\n           0.0318,  0.0060,  0.0043, -0.0022,  0.0176,  0.0395, -0.0163, -0.0444,\n           0.0533, -0.0516,  0.0308,  0.0312,  0.0068, -0.0040,  0.0240, -0.0469,\n          -0.0045, -0.0268,  0.0520,  0.0078, -0.0562, -0.0328, -0.0314, -0.0544,\n          -0.0055,  0.0064, -0.0317,  0.0005, -0.0333,  0.0510, -0.0081, -0.0334,\n           0.0307,  0.0175, -0.0563,  0.0113,  0.0455, -0.0406, -0.0544,  0.0083,\n           0.0042,  0.0501, -0.0516,  0.0509,  0.0332,  0.0211,  0.0440,  0.0039,\n          -0.0067, -0.0519,  0.0183, -0.0139,  0.0309, -0.0212, -0.0425,  0.0350,\n          -0.0432,  0.0361,  0.0105,  0.0178,  0.0185, -0.0179, -0.0482, -0.0194,\n           0.0570, -0.0238,  0.0455,  0.0193], requires_grad=True)),\n ('2.weight_orig',\n  Parameter containing:\n  tensor([[ 0.0208,  0.0089, -0.0485,  ...,  0.0122,  0.0077, -0.0329],\n          [-0.0259,  0.0062, -0.0185,  ..., -0.0101, -0.0248,  0.0064],\n          [-0.0573, -0.0291, -0.0156,  ..., -0.0353, -0.0185,  0.0170],\n          ...,\n          [-0.0532,  0.0109,  0.0258,  ...,  0.0565, -0.0336,  0.0325],\n          [ 0.0194, -0.0034, -0.0299,  ..., -0.0136,  0.0210, -0.0059],\n          [ 0.0522,  0.0348,  0.0273,  ...,  0.0461,  0.0235,  0.0039]],\n         requires_grad=True)),\n ('4.bias',\n  Parameter containing:\n  tensor([ 0.0426, -0.0328,  0.0903, -0.0893, -0.0184, -0.0548,  0.0624,  0.0080,\n           0.0971, -0.0738], requires_grad=True)),\n ('4.weight_orig',\n  Parameter containing:\n  tensor([[-4.6000e-02, -7.9950e-02,  3.1384e-03,  6.8599e-02,  3.9120e-02,\n            5.2535e-02, -3.5033e-02,  4.6127e-02,  6.8817e-02, -4.4733e-03,\n            5.7514e-02, -1.7141e-02, -1.1339e-02,  8.0882e-02, -6.4385e-02,\n           -9.8781e-02,  4.6991e-02, -1.5564e-02, -6.2929e-02,  1.4278e-02,\n            9.5335e-02,  2.6016e-02,  5.0230e-02,  3.3111e-02,  8.8679e-02,\n            9.9721e-02,  7.4437e-02, -6.8373e-02,  7.8164e-02,  5.9527e-02,\n           -5.7856e-03,  9.3772e-02,  5.5493e-02,  5.4151e-02, -3.4758e-02,\n            6.1171e-03,  1.1475e-02,  3.6517e-02, -9.4754e-02, -8.8049e-02,\n           -8.7413e-02,  8.7157e-02,  9.1767e-03, -6.8664e-02, -4.7218e-03,\n           -4.2224e-02, -6.9109e-02,  5.7080e-02, -3.4590e-02,  7.7752e-02,\n           -9.9589e-02, -3.8724e-02, -2.9310e-02,  3.7884e-02,  1.2324e-03,\n           -8.8658e-03,  4.6225e-02,  7.0269e-02,  4.1568e-02, -7.0323e-02,\n           -2.1472e-02, -9.5558e-02, -3.0143e-02,  4.2486e-02, -7.6425e-02,\n           -9.4378e-02, -1.3466e-02,  8.5013e-02,  2.3565e-02,  6.4909e-02,\n            6.8567e-02, -5.1667e-02, -7.0917e-02, -8.4019e-02,  2.4054e-02,\n           -5.2212e-02, -6.6133e-02,  1.6051e-02, -4.4102e-02, -3.7907e-03,\n            2.3685e-05,  3.0752e-02, -3.4034e-02, -3.7174e-02, -9.0227e-02,\n            2.2296e-02, -6.1006e-02, -1.3672e-02,  3.8919e-02,  5.1283e-02,\n            1.0626e-02,  3.6100e-02,  4.0391e-02,  7.7798e-02,  5.8366e-02,\n            9.7395e-02, -1.0351e-02, -3.3943e-02,  9.0218e-02, -1.0752e-02],\n          [ 7.8933e-02,  4.8598e-02,  8.4487e-02,  7.7422e-02,  9.3250e-02,\n           -3.7284e-02,  1.2292e-02,  3.9596e-02,  3.0363e-02, -4.3530e-02,\n           -6.4594e-02,  9.2919e-02,  8.5321e-02,  6.8457e-02,  5.9108e-04,\n           -8.2429e-02,  4.7213e-02,  5.0336e-02,  3.7944e-02, -3.4707e-02,\n           -5.1456e-03, -3.3475e-02, -4.2803e-02, -2.2064e-02, -7.8836e-02,\n           -6.9005e-02, -5.7892e-02,  2.4576e-02,  3.1358e-02, -9.8159e-02,\n           -3.0442e-02, -2.2960e-02, -2.7476e-02, -8.3648e-02,  2.8738e-02,\n            9.5260e-02,  1.5539e-03, -6.6485e-02,  3.4189e-02, -4.2521e-03,\n            9.2460e-02,  4.8955e-02, -6.6909e-02,  9.3888e-02,  6.2507e-02,\n            4.9750e-02, -6.7431e-02,  5.7629e-02, -9.7904e-02, -8.8469e-02,\n            5.7382e-02, -6.1433e-02,  6.2345e-02, -4.9381e-02, -9.4931e-03,\n           -9.1716e-02, -1.6784e-02, -2.6434e-02,  9.4032e-02, -8.7423e-03,\n            9.8482e-02,  2.3798e-02, -8.5323e-02,  3.0981e-02, -4.9571e-02,\n            1.8245e-02,  2.8760e-02,  2.1712e-03, -8.9804e-02, -6.8353e-02,\n           -9.8932e-02,  5.2453e-02, -6.9014e-02,  2.7208e-02, -8.5326e-02,\n           -6.0810e-02, -5.3685e-02,  9.0981e-02, -9.0155e-02,  1.7573e-03,\n           -7.9755e-02, -6.6876e-02,  1.9063e-02, -2.3955e-02, -6.1962e-02,\n           -3.0121e-02, -1.6565e-02, -4.4246e-02,  3.3237e-02,  3.7075e-02,\n           -9.3570e-02, -8.3840e-02, -2.5929e-02, -5.5244e-02,  7.9305e-02,\n            9.9679e-02,  5.9367e-02, -5.5657e-02, -6.0882e-02, -3.1813e-02],\n          [-6.6465e-02, -5.8871e-02,  3.8000e-02, -9.6951e-02, -5.0446e-02,\n            2.9051e-02,  8.1996e-02,  3.9428e-02, -5.2569e-02,  8.5941e-02,\n            2.2663e-03,  5.2885e-02,  4.1589e-02, -2.9009e-03, -6.9392e-02,\n           -1.9752e-02,  5.8802e-02, -3.2887e-02,  4.6887e-02,  1.7858e-02,\n            5.8810e-02, -3.2563e-02, -7.3942e-02,  7.4671e-02, -9.4875e-02,\n           -1.0174e-02, -1.9732e-03,  9.1322e-02,  9.7794e-02, -8.0506e-02,\n            5.9822e-02, -9.2688e-02, -6.4627e-02,  5.5453e-02, -7.0626e-02,\n           -3.8990e-02,  6.5157e-02, -2.0138e-03, -4.5997e-03, -3.2597e-02,\n            4.6138e-02, -5.8069e-04, -9.4971e-02, -4.4162e-02,  4.3289e-02,\n            3.6451e-02,  3.0318e-02,  8.7003e-02,  6.9125e-02,  8.5896e-02,\n           -7.4933e-02,  6.9520e-02,  6.6016e-02, -6.7073e-02, -4.9349e-02,\n           -2.8960e-02,  7.7365e-02, -1.4561e-02,  9.4105e-02, -9.2996e-02,\n           -6.7876e-02, -1.6272e-02, -7.1350e-02, -2.6485e-02, -7.7621e-02,\n           -1.5424e-02, -2.3418e-02, -4.1460e-02, -3.7374e-02,  6.8304e-02,\n            1.8951e-02, -8.4965e-02,  1.8964e-02,  5.5995e-02, -9.6637e-04,\n           -7.6954e-04,  8.2294e-03,  2.7760e-02, -3.2938e-02,  7.3077e-02,\n            1.4675e-02,  9.5607e-02,  2.3622e-02, -3.6916e-02,  8.8934e-02,\n           -4.8448e-02, -2.2174e-02, -4.0567e-02, -8.4486e-02,  5.0347e-02,\n            2.1081e-02,  8.9669e-02, -2.9053e-02, -2.7492e-02,  3.9623e-02,\n           -1.8030e-02, -6.2833e-02,  4.2547e-02, -2.5842e-03, -2.1967e-02],\n          [ 9.2153e-02,  1.1095e-02,  9.1864e-02, -5.4785e-03, -1.0313e-02,\n            4.9049e-02, -8.5510e-02, -5.7629e-02,  7.3665e-02,  3.7076e-02,\n            2.5493e-02,  8.7644e-02, -6.6079e-02, -9.2003e-03, -6.1415e-02,\n           -8.3003e-02, -9.2197e-02, -2.0113e-02,  1.6190e-02, -3.0408e-02,\n           -2.5208e-02, -2.6664e-02,  4.7520e-02, -5.4367e-02,  6.4436e-02,\n            7.0535e-02, -5.4009e-04, -4.7735e-02,  1.3078e-02,  3.6398e-02,\n           -5.8807e-02, -6.9318e-02, -3.4615e-02, -8.0165e-02,  6.9898e-03,\n            3.4172e-02, -6.9319e-02,  1.3676e-03, -2.6570e-02,  7.3432e-02,\n           -8.6870e-02, -4.2852e-03, -6.9701e-02,  1.3709e-02, -7.4919e-02,\n           -6.5499e-02, -6.9225e-02,  2.2080e-02, -4.1150e-02,  3.3148e-02,\n           -4.4829e-02,  4.2008e-02,  4.3789e-02, -6.7973e-02, -1.5600e-02,\n           -3.7156e-02,  7.0927e-02,  5.9628e-03, -7.0344e-02,  1.4114e-02,\n           -9.3914e-03,  5.7763e-02, -3.9380e-02,  9.6979e-02,  9.3892e-02,\n            3.5197e-03, -3.8244e-02, -9.2005e-03, -7.2917e-02, -3.0814e-02,\n            5.4362e-02, -7.7799e-02,  8.0907e-02, -4.5328e-02,  2.6069e-02,\n           -7.2622e-02, -4.3324e-02, -9.2651e-02, -4.9943e-02, -5.0970e-02,\n           -8.7205e-02,  4.5078e-02, -6.8024e-02,  4.9999e-02,  9.9821e-02,\n            2.9187e-02,  4.0630e-02,  8.5713e-02, -5.0163e-02, -1.4287e-02,\n            2.1676e-02, -3.3928e-02, -3.6064e-03,  8.1418e-02, -3.7740e-02,\n            7.8055e-02,  6.7792e-02,  2.3653e-02,  1.6126e-02, -3.1069e-02],\n          [-9.6255e-02, -1.6989e-02,  7.2093e-02,  4.3279e-02,  3.8386e-02,\n           -3.2304e-02,  1.1104e-02, -5.0963e-02, -5.1500e-02,  6.3560e-03,\n            7.1213e-02, -4.4550e-02,  6.2020e-02,  8.3400e-02,  7.4770e-03,\n            7.7309e-02,  8.7549e-02, -4.8907e-02, -4.8349e-02,  4.1926e-02,\n           -4.8262e-02, -6.0107e-02, -1.6042e-02,  1.3304e-02,  1.0442e-02,\n           -4.3329e-02, -3.4106e-02, -2.5438e-02,  1.2539e-02,  6.5043e-02,\n           -3.4304e-02,  7.4183e-02,  8.8482e-02,  2.4639e-03,  5.7962e-03,\n           -3.1421e-02, -4.7382e-02, -1.7141e-02,  3.1596e-02, -4.8179e-02,\n           -5.6391e-02, -1.9165e-02, -8.5168e-02, -9.7856e-02,  6.4549e-02,\n           -8.8487e-02,  3.1426e-02,  4.1904e-03,  6.8366e-02,  6.8540e-02,\n            4.8552e-02, -9.9680e-02, -8.9577e-02, -4.6956e-02,  5.7950e-02,\n            6.1188e-02,  4.5179e-02, -1.7722e-02, -6.7318e-02,  1.2180e-02,\n           -4.2301e-02, -7.9445e-02,  6.4309e-02, -9.7327e-02,  1.7007e-02,\n            3.8026e-02, -4.0565e-02,  6.4539e-02,  6.7233e-02, -3.5125e-02,\n            9.2551e-02,  5.5097e-02, -4.6859e-02,  7.2506e-02,  9.4495e-03,\n           -9.6820e-02,  2.5468e-02, -7.3324e-02,  4.0107e-02,  8.6823e-02,\n           -6.1893e-02, -8.0764e-02,  8.8313e-02,  5.4319e-02,  7.4554e-02,\n            1.2836e-02, -3.1031e-02,  4.5054e-02, -3.9898e-02,  8.9555e-02,\n            5.2567e-02,  1.3455e-02,  8.6499e-02,  7.6370e-03, -8.7553e-02,\n            1.5241e-02,  1.3777e-02,  8.2983e-02, -2.2149e-02, -9.0589e-02],\n          [-1.6868e-02,  7.9434e-02,  7.7006e-02,  2.4052e-02,  2.0624e-02,\n           -1.0001e-02, -8.7926e-02,  4.4095e-02,  2.3722e-02,  8.2358e-02,\n           -5.1714e-02,  7.0384e-02, -3.2876e-02, -2.5262e-03, -4.3878e-02,\n           -1.2487e-02,  9.8357e-03,  8.2902e-02,  6.9452e-02, -4.6026e-02,\n           -7.0762e-02,  9.7202e-02,  6.8378e-02, -8.7885e-02, -4.6077e-02,\n           -4.0652e-02, -5.4697e-02, -1.7556e-02, -4.6347e-02, -5.5840e-02,\n            4.5908e-02, -1.5844e-02, -1.0391e-02,  8.5467e-02, -1.7132e-02,\n            1.7640e-02, -7.8720e-02,  6.7860e-02,  5.0007e-02, -7.7238e-02,\n           -7.5403e-02, -5.4860e-02, -4.2097e-02, -7.8736e-02, -5.1190e-02,\n            2.4700e-02, -7.8559e-02,  2.7248e-02, -9.8918e-02,  9.6390e-02,\n           -9.6492e-02, -5.7007e-02, -6.5440e-02, -7.9684e-02, -9.8994e-02,\n           -4.6637e-03, -6.3000e-02, -2.6312e-02,  9.1358e-02,  5.8890e-03,\n            7.2382e-02,  1.2345e-02,  9.4236e-02, -3.6158e-02,  8.1813e-02,\n            3.1362e-02, -3.0097e-02,  7.9160e-02, -2.7008e-02,  4.2971e-02,\n           -6.6380e-04,  4.3524e-02, -4.0446e-02, -2.9931e-03,  2.6423e-02,\n           -5.2280e-02, -5.6357e-02, -4.3654e-02, -1.7333e-02,  7.5526e-02,\n            8.2284e-02, -8.6137e-02, -9.2768e-02, -2.0358e-02, -8.2347e-02,\n           -7.2730e-02,  7.5377e-02,  7.9836e-02,  6.6272e-02,  9.3329e-02,\n            7.0368e-02,  3.9729e-02,  2.8548e-02, -1.6444e-02,  2.4266e-02,\n           -4.4907e-02,  7.3357e-02,  9.3549e-02,  9.7449e-02, -4.0492e-02],\n          [ 2.7336e-02, -3.3909e-02, -2.9063e-02, -3.7771e-02, -8.0039e-02,\n            9.0386e-02, -7.9618e-02, -7.6379e-02, -5.5606e-02, -3.2854e-02,\n           -8.8537e-02,  1.5520e-02, -6.7653e-02,  2.0829e-03, -4.8115e-03,\n            6.5919e-02, -9.3358e-02,  5.1638e-02, -1.7371e-02,  5.3483e-02,\n           -9.1194e-02,  3.1595e-02, -7.2658e-02,  8.4218e-02, -2.7761e-02,\n           -9.2069e-02, -9.7332e-02, -4.3739e-03,  8.1661e-02,  2.9458e-02,\n           -8.1869e-02, -2.0794e-02, -9.7746e-02,  9.3772e-02, -8.5312e-02,\n            7.0593e-02,  1.9179e-02,  3.6922e-02, -2.4546e-02,  2.5710e-02,\n            5.2586e-02, -1.3760e-02, -9.9245e-02,  4.0369e-02,  6.7860e-03,\n            6.0131e-02,  7.6077e-02, -2.4953e-02, -2.7458e-02, -7.7824e-02,\n           -3.8990e-02,  8.8631e-02,  1.0650e-02,  2.4003e-02,  9.0176e-02,\n            3.9301e-02, -4.4890e-02, -7.9283e-02, -2.4177e-02, -9.0865e-02,\n           -5.2782e-02, -3.6021e-02, -5.8924e-02, -5.6490e-02,  4.8876e-02,\n           -8.1189e-02,  1.3163e-02, -2.8260e-02,  8.0407e-02,  9.3132e-02,\n           -2.2081e-02, -3.7986e-02,  5.1176e-02,  2.3372e-03, -3.1440e-04,\n           -2.0677e-02, -1.9160e-02,  8.0054e-02,  7.7542e-02, -7.2076e-02,\n            3.6016e-02, -8.8639e-02,  8.1937e-03,  7.4865e-02, -1.9663e-02,\n            3.3998e-02,  2.9413e-02, -5.4652e-02, -9.4113e-02,  5.2881e-02,\n            1.5288e-02, -2.2577e-02,  2.1202e-02,  6.2907e-02, -9.9312e-02,\n            6.0089e-02,  2.4273e-02,  2.8017e-02,  7.6953e-02,  4.9964e-03],\n          [-5.0089e-02,  2.2066e-02, -5.9526e-02, -6.9471e-02,  4.6867e-02,\n            4.7175e-02, -4.2384e-02,  8.0764e-03,  4.6843e-02, -3.3620e-02,\n           -9.3565e-02,  4.5914e-02,  8.6789e-02,  5.2530e-02, -9.0893e-02,\n            6.8911e-02, -6.8663e-02,  5.1635e-03, -2.4796e-02, -2.6094e-02,\n           -2.3646e-02, -8.6773e-02,  8.7808e-02, -5.8986e-04,  6.5851e-02,\n            6.2875e-02, -9.4157e-02, -8.0016e-02, -6.1594e-02, -8.2525e-02,\n           -8.2668e-02,  3.1676e-02,  6.9996e-02, -9.8767e-02, -4.6402e-02,\n           -3.6258e-02, -1.7237e-02,  7.9939e-02, -6.0735e-02,  5.1584e-02,\n           -5.9843e-02, -3.7303e-02,  7.5764e-02, -4.9480e-02,  6.0386e-02,\n           -3.6280e-02, -6.2563e-02, -8.8131e-02, -5.6889e-02, -2.0446e-02,\n            7.5435e-02,  3.1758e-02,  1.1322e-02,  6.5050e-03, -6.1481e-03,\n           -7.3831e-02, -7.4399e-03,  8.0407e-02,  9.3031e-02, -4.0079e-02,\n            2.8907e-02, -6.7913e-02, -2.7329e-02, -1.5383e-02,  7.9863e-03,\n           -6.6459e-02,  6.0989e-02,  9.5893e-02,  4.4678e-02, -8.4449e-02,\n           -2.5036e-02, -1.0011e-02,  4.9111e-02, -5.9035e-02,  5.4407e-02,\n            2.2431e-02,  4.9324e-02,  3.6393e-02, -9.0947e-02,  9.8198e-02,\n           -9.1438e-02,  4.4761e-02, -9.2610e-02, -2.7401e-02,  6.1916e-03,\n            4.6974e-02,  8.8394e-02, -2.7123e-02, -2.3373e-03,  6.1045e-02,\n           -3.0995e-02, -2.9077e-02,  4.7252e-02, -7.3361e-02, -5.7618e-02,\n           -6.1846e-02,  8.0878e-02,  1.5352e-02,  2.2458e-02, -4.4503e-02],\n          [ 8.5752e-02, -4.0428e-02, -9.1086e-02, -9.7539e-02, -8.2486e-02,\n            3.9160e-02, -9.1048e-02, -7.3647e-02, -2.2333e-02,  9.7858e-02,\n            7.4454e-03,  7.5151e-02,  8.3374e-02, -8.8623e-03, -8.5151e-02,\n            4.9905e-02,  5.6674e-02, -1.7807e-02,  1.5782e-02, -8.8346e-02,\n            7.8098e-02, -4.2517e-02,  7.8364e-02, -1.7965e-02, -1.3211e-02,\n            8.9616e-02, -2.9960e-02,  3.1423e-02,  2.9748e-02, -1.5703e-02,\n            2.7792e-02, -5.1867e-02, -9.5769e-02, -7.9195e-02,  6.3132e-02,\n            1.6688e-02, -9.4021e-02,  4.9205e-02,  1.6941e-02, -6.9951e-02,\n           -9.6518e-02,  9.4512e-02,  9.6880e-02, -6.3484e-02,  2.3760e-02,\n           -8.0049e-02,  8.9811e-02, -7.5781e-02,  1.7338e-03, -8.0968e-02,\n           -6.8377e-02,  7.1977e-02,  2.7279e-02, -3.8086e-02, -4.4001e-03,\n           -9.9468e-02, -2.6214e-02,  6.2042e-02,  3.2091e-02, -3.0084e-02,\n           -5.7608e-02,  4.0754e-02,  8.5067e-02, -1.2518e-02, -3.6053e-02,\n            5.7318e-03, -7.3336e-02,  7.7388e-02, -8.2349e-02, -1.3724e-03,\n           -3.3036e-02, -3.1185e-02, -9.7156e-02,  6.2864e-02,  2.5555e-05,\n           -1.1142e-02, -5.3769e-02,  6.2601e-02,  6.7908e-02,  1.5037e-02,\n            7.7183e-02, -8.9885e-02,  8.6146e-02, -4.4535e-02, -5.8930e-02,\n            9.1983e-02,  1.9221e-02, -1.1960e-02,  3.7154e-02, -1.9726e-02,\n            5.5530e-03,  7.1658e-03,  1.0063e-02,  7.6237e-02, -8.4874e-02,\n            5.2631e-02, -4.2513e-02,  6.6022e-02, -2.9174e-02,  5.7808e-02],\n          [ 7.3335e-02, -6.4899e-02,  5.4007e-02, -4.0833e-02, -8.0974e-03,\n            8.6338e-02,  8.8627e-02, -2.7901e-02, -9.6401e-02, -9.1750e-02,\n            5.6745e-02,  2.7126e-02,  8.9020e-02, -6.5405e-02,  3.5622e-02,\n            1.1369e-02, -5.0364e-02, -9.6911e-02, -4.1622e-02,  2.7469e-02,\n            7.4775e-02,  3.2256e-02,  7.6214e-02,  3.7047e-02,  8.1692e-02,\n           -1.7478e-02, -1.5930e-02,  2.4338e-02, -5.4877e-02, -4.4399e-02,\n           -6.4445e-02,  1.8308e-02,  4.1521e-02, -2.6619e-02,  2.5727e-03,\n            8.9187e-02,  1.0059e-02, -1.7156e-02,  9.8117e-02,  1.2872e-02,\n           -6.1557e-02,  2.3987e-02, -3.6529e-02,  2.2136e-02, -4.3384e-03,\n            8.0479e-02,  4.0248e-02, -2.5922e-02, -4.9623e-03, -2.1842e-02,\n            8.8790e-02,  3.7000e-02,  8.3855e-02, -9.5689e-02, -5.7616e-02,\n           -9.6269e-02,  5.2866e-02, -2.1359e-02, -6.3150e-02,  1.1468e-02,\n           -6.5481e-03, -3.7904e-02, -6.0147e-02, -4.8758e-03,  2.8683e-02,\n           -9.0177e-02,  4.8207e-02, -7.6084e-02, -1.6190e-02, -4.7461e-02,\n           -6.9443e-02,  6.8489e-02, -5.7696e-02,  6.3261e-02, -2.5261e-02,\n            3.0024e-02, -8.4383e-02,  3.7258e-02, -7.3483e-02,  1.7926e-02,\n           -6.1887e-02, -2.2439e-02,  6.7377e-02,  2.4477e-02, -4.5578e-02,\n           -1.7257e-04, -3.6004e-02, -6.7808e-02, -9.7102e-03, -2.5776e-02,\n           -1.0486e-02,  2.5214e-02, -8.5332e-02,  3.5198e-02, -4.8491e-02,\n            6.1035e-02, -8.5202e-03, -2.1501e-02,  6.2354e-02,  6.5229e-02]],\n         requires_grad=True))]"
     },
     "execution_count": 220,
     "metadata": {},
     "output_type": "execute_result"
    }
   ],
   "source": [
    "list(net_out.named_parameters())"
   ],
   "metadata": {
    "collapsed": false,
    "ExecuteTime": {
     "start_time": "2023-10-24T19:01:29.604160Z",
     "end_time": "2023-10-24T19:01:29.799937Z"
    }
   }
  },
  {
   "cell_type": "markdown",
   "metadata": {},
   "source": [
    "**(g) Define a function that randomly prunes a network.<span style=\"float:right\"> (1 point)</span>**"
   ]
  },
  {
   "cell_type": "markdown",
   "metadata": {},
   "source": [
    "TODO: Function implemented as: `TODO` in `dl_assignment_7_common.py`"
   ]
  },
  {
   "cell_type": "markdown",
   "metadata": {},
   "source": [
    "**(h) Check the above function.<span style=\"float:right\"> (1 point)</span>**"
   ]
  },
  {
   "cell_type": "code",
   "execution_count": 235,
   "outputs": [
    {
     "name": "stdout",
     "output_type": "stream",
     "text": [
      "Net: lenet Before pruning: 266610 After pruning: 133760 Pruned: 49.83\n",
      "Net: conv2 Before pruning: 4300490 After pruning: 2151210 Pruned: 49.98\n",
      "Net: conv4 Before pruning: 2424778 After pruning: 1213482 Pruned: 49.95\n",
      "Net: resnet18 Before pruning: 278346 After pruning: 144642 Pruned: 48.04\n",
      "Net: vgg19 Before pruning: 20023882 After pruning: 10015018 Pruned: 49.98\n"
     ]
    }
   ],
   "source": [
    "for net_type in [\"lenet\", \"conv2\", \"conv4\", \"resnet18\", \"vgg19\"]:\n",
    "    net = create_network(net_type)\n",
    "    params_before = sum(p.numel() for p in net.parameters())\n",
    "    prune_network(net, net_type, 0.5, prune_type=prune.RandomUnstructured)\n",
    "    params_after = params_before - sum(torch.sum(b == 0) for b in net.buffers()).item()\n",
    "    print(\"Net: \" + net_type + \" Before pruning: \" + str(params_before) + \" After pruning: \" + str(params_after) +\n",
    "          \" Pruned: \" + str(round(abs(1-(params_after / params_before))*100, 2)))"
   ],
   "metadata": {
    "collapsed": false,
    "ExecuteTime": {
     "start_time": "2023-10-24T19:17:09.480756Z",
     "end_time": "2023-10-24T19:17:14.417273Z"
    }
   }
  },
  {
   "cell_type": "markdown",
   "metadata": {},
   "source": [
    "**(i) Define a function that performs the experiment described in Section 1 of the LTH paper on a given dataset and with a given architecture.<span style=\"float:right\"> (2 points)</span>**\n",
    "\n",
    "Save all needed results to a file, such as test loss and accuracy. This will make your job easier later on."
   ]
  },
  {
   "cell_type": "markdown",
   "metadata": {},
   "source": [
    "TODO: Function implemented as: `TODO` in `dl_assignment_7_common.py`"
   ]
  },
  {
   "cell_type": "markdown",
   "metadata": {},
   "source": [
    "## 7.5 Confirming the Lottery Ticket Hypothesis (10 points)"
   ]
  },
  {
   "cell_type": "markdown",
   "metadata": {},
   "source": [
    "**(a) Perform the experiments needed to reproduce the red lines in Figure 1 from the LTH paper.<span style=\"float:right\"> (6 points)</span>**\n",
    "\n",
    "* It is ok to ignore the error bars for now, and focus on doing one series of experiments.\n",
    "* You may also reduce the number of points in the plot to keep the computation time managable.\n",
    "* You do not have to match the visual style of the figure.\n",
    "\n",
    "Hint: create a python script (`experiment1-{dataset}-{method}.py`) that does all the training as needed.\n",
    "Then load the checkpoint files and do your analysis here.\n",
    "You may also want to define more helper functions.\n",
    "\n",
    "Hint 2: look at previous assignments for how to plot. If you do want to include error bars, see also [documentation for `plt.errorbar`](https://matplotlib.org/stable/api/_as_gen/matplotlib.pyplot.errorbar.html)."
   ]
  },
  {
   "cell_type": "markdown",
   "metadata": {},
   "source": [
    "TODO: Training implemented in `TODO.py`"
   ]
  },
  {
   "cell_type": "code",
   "execution_count": null,
   "metadata": {},
   "outputs": [],
   "source": [
    "# TODO: your code here"
   ]
  },
  {
   "cell_type": "markdown",
   "metadata": {},
   "source": [
    "**(b) Do your results match the paper? Discuss similarities and differences.<span style=\"float:right\"> (2 points)</span>**"
   ]
  },
  {
   "cell_type": "markdown",
   "metadata": {},
   "source": [
    "TODO: your answer here."
   ]
  },
  {
   "cell_type": "markdown",
   "metadata": {},
   "source": [
    "**(c) What can you conclude from this experiment?<span style=\"float:right\"> (2 points)</span>**"
   ]
  },
  {
   "cell_type": "markdown",
   "metadata": {},
   "source": [
    "TODO: your answer here."
   ]
  },
  {
   "cell_type": "markdown",
   "metadata": {},
   "source": [
    "## 7.6 Experiments from Section 2 (12 points)"
   ]
  },
  {
   "cell_type": "markdown",
   "metadata": {},
   "source": [
    "**(a) What is the difference between the experiment in Figure 1 and Figure 3 of the paper.<span style=\"float:right\"> (1 point)</span>**\n",
    "\n",
    "Hint: are there differences in the method, the architecture, or the dataset?"
   ]
  },
  {
   "cell_type": "markdown",
   "metadata": {},
   "source": [
    "TODO: your answer here."
   ]
  },
  {
   "cell_type": "markdown",
   "metadata": {},
   "source": [
    "**(b) Implement the iterative pruning method from the paper.<span style=\"float:right\"> (3 points)</span>**"
   ]
  },
  {
   "cell_type": "markdown",
   "metadata": {},
   "source": [
    "TODO: Function implemented as: `TODO` in `dl_assignment_7_common.py`"
   ]
  },
  {
   "cell_type": "markdown",
   "metadata": {},
   "source": [
    "**(c) Perform the experiments needed to reproduce Figure 4a from the paper.<span style=\"float:right\"> (4 points)</span>**\n",
    "\n",
    "Hint: see previous section"
   ]
  },
  {
   "cell_type": "markdown",
   "metadata": {},
   "source": [
    "TODO: Training implemented in `TODO.py`"
   ]
  },
  {
   "cell_type": "code",
   "execution_count": null,
   "metadata": {},
   "outputs": [],
   "source": [
    "# TODO: your code here"
   ]
  },
  {
   "cell_type": "markdown",
   "metadata": {},
   "source": [
    "**(d) Do your results match the paper? Discuss similarities and differences.<span style=\"float:right\"> (2 points)</span>**"
   ]
  },
  {
   "cell_type": "markdown",
   "metadata": {},
   "source": [
    "TODO: your answer here."
   ]
  },
  {
   "cell_type": "markdown",
   "metadata": {},
   "source": [
    "**(e) What can you conclude from this experiment?<span style=\"float:right\"> (2 points)</span>**"
   ]
  },
  {
   "cell_type": "markdown",
   "metadata": {},
   "source": [
    "TODO: your answer here."
   ]
  },
  {
   "cell_type": "markdown",
   "metadata": {},
   "source": [
    "## 7.7 Experiments from Section 4 (7 points)\n",
    "\n",
    "Section 3 and 4 deal with convolutional neural networks. We are going to skip the networks in section 3, and move on to Figure 8."
   ]
  },
  {
   "cell_type": "markdown",
   "metadata": {},
   "source": [
    "**(a) Section 4 of the paper describes a slightly different pruning method. Implement that method.<span style=\"float:right\"> (2 points)</span>**\n",
    "\n",
    "Hint: look at [`torch.nn.utils.prune.global_unstructured`](https://pytorch.org/docs/stable/generated/torch.nn.utils.prune.global_unstructured.html) and at the examples on that page.\n",
    "\n",
    "If you get stuck on this step, you can continue with the same pruning methods as before."
   ]
  },
  {
   "cell_type": "markdown",
   "metadata": {},
   "source": [
    "TODO: Function implemented as: `TODO` in `dl_assignment_7_common.py`"
   ]
  },
  {
   "cell_type": "markdown",
   "metadata": {},
   "source": [
    "**(b) Implement a function that constructs the network architecture used in Figure 8.<span style=\"float:right\"> (1 point)</span>**\n",
    "\n",
    "Extend the `create_network` function defined earlier.\n",
    "\n",
    "Hint: VGG16 and Resnet18 are [predefined in torchvision](https://pytorch.org/vision/0.12/models.html)."
   ]
  },
  {
   "cell_type": "markdown",
   "metadata": {},
   "source": [
    "**(c) Perform the experiments needed to reproduce Figure 8 from the LTH paper.<span style=\"float:right\"> (2 points)</span>**\n",
    "\n",
    "* Again: you do not need to include error bars.\n",
    "* You may limit yourself to one of the figures."
   ]
  },
  {
   "cell_type": "markdown",
   "metadata": {},
   "source": [
    "TODO: Training implemented in `TODO.py`"
   ]
  },
  {
   "cell_type": "code",
   "execution_count": null,
   "metadata": {},
   "outputs": [],
   "source": [
    "# TODO: your code here"
   ]
  },
  {
   "cell_type": "markdown",
   "metadata": {},
   "source": [
    "**(d) Do your results match the paper? Discuss similarities and differences.<span style=\"float:right\"> (2 points)</span>**"
   ]
  },
  {
   "cell_type": "markdown",
   "metadata": {},
   "source": [
    "TODO: your answer here."
   ]
  },
  {
   "cell_type": "markdown",
   "metadata": {},
   "source": [
    "## The end\n",
    "\n",
    "Well done! Please double check the instructions at the top before you submit your results."
   ]
  },
  {
   "cell_type": "markdown",
   "metadata": {},
   "source": [
    "*This assignment has 65 points.*\n",
    "<span style=\"float:right;color:#aaa;font-size:10px;\"> Version 97b3d19 / 2023-10-19</span>"
   ]
  }
 ],
 "metadata": {
  "kernelspec": {
   "display_name": "Python 3",
   "language": "python",
   "name": "python3"
  },
  "language_info": {
   "codemirror_mode": {
    "name": "ipython",
    "version": 3
   },
   "file_extension": ".py",
   "mimetype": "text/x-python",
   "name": "python",
   "nbconvert_exporter": "python",
   "pygments_lexer": "ipython3",
   "version": "3.11.6"
  }
 },
 "nbformat": 4,
 "nbformat_minor": 4
}
